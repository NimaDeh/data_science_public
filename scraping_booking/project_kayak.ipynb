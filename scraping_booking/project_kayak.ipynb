{
 "cells": [
  {
   "cell_type": "code",
   "execution_count": 49,
   "metadata": {},
   "outputs": [],
   "source": [
    "import requests\n",
    "import pandas as pd\n",
    "from bs4 import BeautifulSoup\n",
    "import plotly.io as pio\n",
    "import pandas as pd\n",
    "import plotly.express as px\n",
    "import plotly.graph_objects as go\n",
    "import os \n",
    "import logging\n",
    "import scrapy\n",
    "from scrapy.crawler import CrawlerProcess\n",
    "pd.set_option('display.max_rows', None)\n",
    "\n",
    "pio.renderers.default = \"iframe_connected\""
   ]
  },
  {
   "cell_type": "code",
   "execution_count": 50,
   "metadata": {},
   "outputs": [],
   "source": [
    "cities_list = [\"Mont Saint Michel\",\"St Malo\",\"Bayeux\",\"Le Havre\",\"Rouen\",\"Paris\",\"Amiens\",\"Lille\",\"Strasbourg\",\"Chateau du Haut Koenigsbourg\",\"Colmar\",\"Eguisheim\",\"Besancon\",\"Dijon\",\"Annecy\",\"Grenoble\",\"Lyon\",\"Gorges du Verdon\",\"Bormes les Mimosas\",\"Cassis\",\n",
    "\"Marseille\",\n",
    "\"Aix en Provence\",\n",
    "\"Avignon\",\n",
    "\"Uzes\",\n",
    "\"Nimes\",\n",
    "\"Aigues Mortes\",\n",
    "\"Saintes Maries de la mer\",\n",
    "\"Collioure\",\n",
    "\"Carcassonne\",\n",
    "\"Ariege\",\n",
    "\"Toulouse\",\n",
    "\"Montauban\",\n",
    "\"Biarritz\",\n",
    "\"Bayonne\",\n",
    "\"La Rochelle\"];"
   ]
  },
  {
   "cell_type": "code",
   "execution_count": 51,
   "metadata": {},
   "outputs": [],
   "source": [
    "cities = pd.DataFrame(data = cities_list,columns =['city'])\n",
    "cities[\"lat\"] = 0\n",
    "cities[\"lon\"] = 0\n",
    "cities[\"rain\"] = 0\n",
    "cities[\"rain_prob\"] = 0"
   ]
  },
  {
   "cell_type": "code",
   "execution_count": 52,
   "metadata": {},
   "outputs": [],
   "source": [
    "# Recovering coordinates for each city\n",
    "for index,city in cities['city'].iteritems():\n",
    "    coord = requests.get(\"https://nominatim.openstreetmap.org/?q=<{},france>&format=json&limit=1\".format(city)).json()[0]\n",
    "    cities.loc[index,\"lat\"] = coord['lat']\n",
    "    cities.loc[index,\"lon\"] = coord['lon']\n",
    "\n",
    "cities[\"lat\"] = cities['lat'].astype('float')\n",
    "cities[\"lon\"] = cities['lon'].astype('float')"
   ]
  },
  {
   "cell_type": "code",
   "execution_count": 53,
   "metadata": {},
   "outputs": [],
   "source": [
    "# Recovering weather data\n",
    "API_key = '116c6fd579d21074a961ae64785fefbd'\n",
    "for index,city in cities['city'].iteritems():\n",
    "    weather_daily = requests.get(\"https://api.openweathermap.org/data/2.5/onecall?lat={}&lon={}&exclude=hourly,minutely&appid={}&units=metric\".format(cities.loc[index,\"lat\"],cities.loc[index,\"lon\"],API_key)).json()['daily']\n",
    "    daily_rains = [day[\"pop\"]*day[\"rain\"] if 'rain' in day.keys() else 0 for day in weather_daily]\n",
    "    daily_clouds = [day[\"clouds\"] for day in weather_daily]\n",
    "    daily_temps = [day[\"temp\"]['max'] for day in weather_daily]\n",
    "    \n",
    "    if len(daily_rains) !=0 and len(daily_rains) is not None:\n",
    "        rain_avg = sum(daily_rains)/len(daily_rains)\n",
    "    else:\n",
    "        rain_avg = 0\n",
    "        \n",
    "    if len(daily_clouds) !=0 and len(daily_clouds) is not None:\n",
    "        cloud_avg = sum(daily_clouds)/len(daily_clouds)\n",
    "    else:\n",
    "        cloud_avg = 0\n",
    "    \n",
    "    if len(daily_temps) !=0 and len(daily_temps) is not None:\n",
    "        temp_avg = sum(daily_temps)/len(daily_temps)\n",
    "    else:\n",
    "        temp_avg = 0\n",
    "        \n",
    "    cities.loc[index,\"rain\"] = rain_avg\n",
    "    cities.loc[index,\"cloudiness\"] = cloud_avg\n",
    "    cities.loc[index,\"temperature_max\"] = temp_avg\n",
    "    \n",
    "    "
   ]
  },
  {
   "cell_type": "code",
   "execution_count": 54,
   "metadata": {},
   "outputs": [],
   "source": [
    "cities_sorted = cities.sort_values(by='temperature_max',ascending=False,ignore_index=True).loc[:5,:]"
   ]
  },
  {
   "cell_type": "code",
   "execution_count": 55,
   "metadata": {},
   "outputs": [
    {
     "data": {
      "text/html": [
       "<iframe\n",
       "    scrolling=\"no\"\n",
       "    width=\"100%\"\n",
       "    height=\"545px\"\n",
       "    src=\"iframe_figures/figure_55.html\"\n",
       "    frameborder=\"0\"\n",
       "    allowfullscreen\n",
       "></iframe>\n"
      ]
     },
     "metadata": {},
     "output_type": "display_data"
    }
   ],
   "source": [
    "# Map : top destinations in France based on temperature from weather data\n",
    "\n",
    "fig = px.scatter_mapbox(cities_sorted,hover_name = 'city',lat=\"lat\", lon=\"lon\", color=\"temperature_max\",size=\"rain\", zoom=4, mapbox_style=\"carto-positron\")\n",
    "fig.show()"
   ]
  },
  {
   "cell_type": "code",
   "execution_count": 56,
   "metadata": {},
   "outputs": [],
   "source": [
    "best_cities = cities_sorted['city'].values.tolist()"
   ]
  },
  {
   "cell_type": "code",
   "execution_count": 57,
   "metadata": {},
   "outputs": [
    {
     "name": "stderr",
     "output_type": "stream",
     "text": [
      "2021-09-12 10:48:31 [scrapy.utils.log] INFO: Scrapy 2.4.1 started (bot: scrapybot)\n",
      "2021-09-12 10:48:31 [scrapy.utils.log] INFO: Versions: lxml 4.6.1.0, libxml2 2.9.10, cssselect 1.1.0, parsel 1.6.0, w3lib 1.22.0, Twisted 21.7.0, Python 3.8.5 (default, Sep  3 2020, 21:29:08) [MSC v.1916 64 bit (AMD64)], pyOpenSSL 19.1.0 (OpenSSL 1.1.1h  22 Sep 2020), cryptography 3.1.1, Platform Windows-10-10.0.19041-SP0\n",
      "2021-09-12 10:48:31 [scrapy.crawler] INFO: Overridden settings:\n",
      "{'LOG_LEVEL': 20,\n",
      " 'USER_AGENT': 'Mozilla/4.0 (compatible; MSIE 7.0; Windows NT 5.1)'}\n",
      "2021-09-12 10:48:31 [scrapy.extensions.telnet] INFO: Telnet Password: f2343bfc1ecaca31\n",
      "2021-09-12 10:48:31 [scrapy.middleware] INFO: Enabled extensions:\n",
      "['scrapy.extensions.corestats.CoreStats',\n",
      " 'scrapy.extensions.telnet.TelnetConsole',\n",
      " 'scrapy.extensions.feedexport.FeedExporter',\n",
      " 'scrapy.extensions.logstats.LogStats']\n",
      "2021-09-12 10:48:32 [scrapy.middleware] INFO: Enabled downloader middlewares:\n",
      "['scrapy.downloadermiddlewares.httpauth.HttpAuthMiddleware',\n",
      " 'scrapy.downloadermiddlewares.downloadtimeout.DownloadTimeoutMiddleware',\n",
      " 'scrapy.downloadermiddlewares.defaultheaders.DefaultHeadersMiddleware',\n",
      " 'scrapy.downloadermiddlewares.useragent.UserAgentMiddleware',\n",
      " 'scrapy.downloadermiddlewares.retry.RetryMiddleware',\n",
      " 'scrapy.downloadermiddlewares.redirect.MetaRefreshMiddleware',\n",
      " 'scrapy.downloadermiddlewares.httpcompression.HttpCompressionMiddleware',\n",
      " 'scrapy.downloadermiddlewares.redirect.RedirectMiddleware',\n",
      " 'scrapy.downloadermiddlewares.cookies.CookiesMiddleware',\n",
      " 'scrapy.downloadermiddlewares.httpproxy.HttpProxyMiddleware',\n",
      " 'scrapy.downloadermiddlewares.stats.DownloaderStats']\n",
      "2021-09-12 10:48:32 [scrapy.middleware] INFO: Enabled spider middlewares:\n",
      "['scrapy.spidermiddlewares.httperror.HttpErrorMiddleware',\n",
      " 'scrapy.spidermiddlewares.offsite.OffsiteMiddleware',\n",
      " 'scrapy.spidermiddlewares.referer.RefererMiddleware',\n",
      " 'scrapy.spidermiddlewares.urllength.UrlLengthMiddleware',\n",
      " 'scrapy.spidermiddlewares.depth.DepthMiddleware']\n",
      "2021-09-12 10:48:32 [scrapy.middleware] INFO: Enabled item pipelines:\n",
      "[]\n",
      "2021-09-12 10:48:32 [scrapy.core.engine] INFO: Spider opened\n",
      "2021-09-12 10:48:32 [scrapy.extensions.logstats] INFO: Crawled 0 pages (at 0 pages/min), scraped 0 items (at 0 items/min)\n",
      "2021-09-12 10:48:32 [scrapy.extensions.telnet] INFO: Telnet console listening on 127.0.0.1:6023\n",
      "2021-09-12 10:48:33 [scrapy.core.engine] INFO: Closing spider (finished)\n",
      "2021-09-12 10:48:33 [scrapy.extensions.feedexport] INFO: Stored json feed (6 items) in: booking.json\n",
      "2021-09-12 10:48:33 [scrapy.statscollectors] INFO: Dumping Scrapy stats:\n",
      "{'downloader/request_bytes': 1614,\n",
      " 'downloader/request_count': 6,\n",
      " 'downloader/request_method_count/GET': 6,\n",
      " 'downloader/response_bytes': 119354,\n",
      " 'downloader/response_count': 6,\n",
      " 'downloader/response_status_count/200': 6,\n",
      " 'elapsed_time_seconds': 0.987963,\n",
      " 'finish_reason': 'finished',\n",
      " 'finish_time': datetime.datetime(2021, 9, 12, 8, 48, 33, 41759),\n",
      " 'item_scraped_count': 6,\n",
      " 'log_count/INFO': 11,\n",
      " 'response_received_count': 6,\n",
      " 'scheduler/dequeued': 6,\n",
      " 'scheduler/dequeued/memory': 6,\n",
      " 'scheduler/enqueued': 6,\n",
      " 'scheduler/enqueued/memory': 6,\n",
      " 'start_time': datetime.datetime(2021, 9, 12, 8, 48, 32, 53796)}\n",
      "2021-09-12 10:48:33 [scrapy.core.engine] INFO: Spider closed (finished)\n"
     ]
    }
   ],
   "source": [
    "# Scraping of booking.com\n",
    "\n",
    "class bookingSpider(scrapy.Spider):\n",
    "    \n",
    "    name =\"booking\"\n",
    "    \n",
    "    start_urls = [\"https://www.booking.com/searchresults.fr.html?ss={}\".format(city) for city in best_cities]\n",
    "\n",
    "    def parse(self,response):\n",
    "        \n",
    "        hotels = response.xpath(\"/html/body/div[2]/div[2]/div[2]\")\n",
    "        city = response.request.url.split(\"ss=\")[1].replace(\"%20\",' ')\n",
    "        \n",
    "        for hotel in hotels:            \n",
    "            yield {\n",
    "                \"city\" : city,\n",
    "                \"title\": hotel.xpath(\"div/h3/a/text()\").getall(),\n",
    "                \"url\": hotel.xpath(\"div/h3/a//@href\").getall(),\n",
    "                \"description\": hotel.xpath(\"div/div[1]/p[2]/text()\").getall(),\n",
    "                \"scores\": hotel.xpath(\"div/div[1]/div[1]/b\").getall()\n",
    "                  }\n",
    "\n",
    "filename = \"booking.json\"\n",
    "\n",
    "if filename in os.listdir():\n",
    "        os.remove(filename)\n",
    "\n",
    "# Declare a new CrawlerProcess with some settings\n",
    "process = CrawlerProcess(settings = {\n",
    "    'USER_AGENT': 'Mozilla/4.0 (compatible; MSIE 7.0; Windows NT 5.1)',\n",
    "    'LOG_LEVEL': logging.INFO,\n",
    "    \"FEEDS\": {\n",
    "        filename : {\"format\": \"json\"},\n",
    "    }\n",
    "})\n",
    "\n",
    "# Start the crawling using the spider you defined above\n",
    "process.crawl(bookingSpider)\n",
    "process.start()"
   ]
  },
  {
   "cell_type": "code",
   "execution_count": 2,
   "metadata": {},
   "outputs": [],
   "source": [
    "import pandas as pd\n",
    "# Import file in a dataframe\n",
    "df =pd.read_json('booking.json')\n",
    "\n",
    "# Isolating description\n",
    "descr = df['description']\n",
    "df2=df.drop(columns='description')\n",
    "\n",
    "# Description processing\n",
    "descr_unested = descr.explode()\n",
    "descr_clean = descr_unested[descr_unested !='\\n']\n",
    "\n",
    "# Data unnest\n",
    "df_clean = df2.set_index('city').apply(pd.Series.explode).reset_index()\n",
    "\n",
    "# Concatenation\n",
    "descr_clean = descr_clean.reset_index(drop=True)\n",
    "df_final = pd.concat([df_clean,descr_clean],axis=1)\n",
    "\n",
    "# Data cleaning\n",
    "\n",
    "# URL\n",
    "url_add = pd.Series([\"https://www.booking.com\" for i in range(df_final.shape[0])])\n",
    "\n",
    "df_final[\"url\"] = url_add.str.cat(df_final[\"url\"])\n",
    "df_final[\"url\"] = df_final[\"url\"].str.split(\"?\").apply(lambda x: x[0])\n",
    "\n",
    "# Recovering scores\n",
    "df_final[\"scores\"] = df_final[\"scores\"].str.split('alt=\"').apply(lambda x: x[1].split('/')[0] if len(x) ==2 else 0)\n",
    "\n",
    "# Description\n",
    "df_final[\"description\"] = df_final[\"description\"].str.replace(\"\\n\",\"\")"
   ]
  },
  {
   "cell_type": "markdown",
   "metadata": {},
   "source": [
    " Scraping of hotel coordinates : it's necessary to restart the kernel to launch the crawler a second time, then execute the cell just above to load data from previous scraping\n"
   ]
  },
  {
   "cell_type": "code",
   "execution_count": 3,
   "metadata": {},
   "outputs": [
    {
     "name": "stderr",
     "output_type": "stream",
     "text": [
      "2021-09-12 10:49:15 [scrapy.utils.log] INFO: Scrapy 2.4.1 started (bot: scrapybot)\n",
      "2021-09-12 10:49:15 [scrapy.utils.log] INFO: Versions: lxml 4.6.1.0, libxml2 2.9.10, cssselect 1.1.0, parsel 1.6.0, w3lib 1.22.0, Twisted 21.7.0, Python 3.8.5 (default, Sep  3 2020, 21:29:08) [MSC v.1916 64 bit (AMD64)], pyOpenSSL 19.1.0 (OpenSSL 1.1.1h  22 Sep 2020), cryptography 3.1.1, Platform Windows-10-10.0.19041-SP0\n",
      "2021-09-12 10:49:15 [scrapy.crawler] INFO: Overridden settings:\n",
      "{'LOG_LEVEL': 20,\n",
      " 'USER_AGENT': 'Mozilla/4.0 (compatible; MSIE 7.0; Windows NT 5.1)'}\n",
      "2021-09-12 10:49:16 [scrapy.extensions.telnet] INFO: Telnet Password: 1862d7831afd7ee1\n",
      "2021-09-12 10:49:16 [scrapy.middleware] INFO: Enabled extensions:\n",
      "['scrapy.extensions.corestats.CoreStats',\n",
      " 'scrapy.extensions.telnet.TelnetConsole',\n",
      " 'scrapy.extensions.feedexport.FeedExporter',\n",
      " 'scrapy.extensions.logstats.LogStats']\n",
      "2021-09-12 10:49:16 [scrapy.middleware] INFO: Enabled downloader middlewares:\n",
      "['scrapy.downloadermiddlewares.httpauth.HttpAuthMiddleware',\n",
      " 'scrapy.downloadermiddlewares.downloadtimeout.DownloadTimeoutMiddleware',\n",
      " 'scrapy.downloadermiddlewares.defaultheaders.DefaultHeadersMiddleware',\n",
      " 'scrapy.downloadermiddlewares.useragent.UserAgentMiddleware',\n",
      " 'scrapy.downloadermiddlewares.retry.RetryMiddleware',\n",
      " 'scrapy.downloadermiddlewares.redirect.MetaRefreshMiddleware',\n",
      " 'scrapy.downloadermiddlewares.httpcompression.HttpCompressionMiddleware',\n",
      " 'scrapy.downloadermiddlewares.redirect.RedirectMiddleware',\n",
      " 'scrapy.downloadermiddlewares.cookies.CookiesMiddleware',\n",
      " 'scrapy.downloadermiddlewares.httpproxy.HttpProxyMiddleware',\n",
      " 'scrapy.downloadermiddlewares.stats.DownloaderStats']\n",
      "2021-09-12 10:49:16 [scrapy.middleware] INFO: Enabled spider middlewares:\n",
      "['scrapy.spidermiddlewares.httperror.HttpErrorMiddleware',\n",
      " 'scrapy.spidermiddlewares.offsite.OffsiteMiddleware',\n",
      " 'scrapy.spidermiddlewares.referer.RefererMiddleware',\n",
      " 'scrapy.spidermiddlewares.urllength.UrlLengthMiddleware',\n",
      " 'scrapy.spidermiddlewares.depth.DepthMiddleware']\n",
      "2021-09-12 10:49:16 [scrapy.middleware] INFO: Enabled item pipelines:\n",
      "[]\n",
      "2021-09-12 10:49:16 [scrapy.core.engine] INFO: Spider opened\n",
      "2021-09-12 10:49:16 [scrapy.extensions.logstats] INFO: Crawled 0 pages (at 0 pages/min), scraped 0 items (at 0 items/min)\n",
      "2021-09-12 10:49:16 [scrapy.extensions.telnet] INFO: Telnet console listening on 127.0.0.1:6023\n",
      "2021-09-12 10:49:33 [scrapy.core.engine] INFO: Closing spider (finished)\n",
      "2021-09-12 10:49:33 [scrapy.extensions.feedexport] INFO: Stored json feed (120 items) in: hotel_page.json\n",
      "2021-09-12 10:49:33 [scrapy.statscollectors] INFO: Dumping Scrapy stats:\n",
      "{'downloader/request_bytes': 79509,\n",
      " 'downloader/request_count': 120,\n",
      " 'downloader/request_method_count/GET': 120,\n",
      " 'downloader/response_bytes': 2129690,\n",
      " 'downloader/response_count': 120,\n",
      " 'downloader/response_status_count/200': 120,\n",
      " 'elapsed_time_seconds': 17.262687,\n",
      " 'finish_reason': 'finished',\n",
      " 'finish_time': datetime.datetime(2021, 9, 12, 8, 49, 33, 613521),\n",
      " 'item_scraped_count': 120,\n",
      " 'log_count/INFO': 11,\n",
      " 'response_received_count': 120,\n",
      " 'scheduler/dequeued': 120,\n",
      " 'scheduler/dequeued/memory': 120,\n",
      " 'scheduler/enqueued': 120,\n",
      " 'scheduler/enqueued/memory': 120,\n",
      " 'start_time': datetime.datetime(2021, 9, 12, 8, 49, 16, 350834)}\n",
      "2021-09-12 10:49:33 [scrapy.core.engine] INFO: Spider closed (finished)\n"
     ]
    }
   ],
   "source": [
    "import os \n",
    "\n",
    "import logging\n",
    "\n",
    "import scrapy\n",
    "from scrapy.crawler import CrawlerProcess\n",
    "\n",
    "class booking_hotelSpider(scrapy.Spider):\n",
    "    \n",
    "    name =\"hotel_page\"\n",
    "    \n",
    "    start_urls = [url for url in df_final[\"url\"]]\n",
    "\n",
    "    def parse(self,response):\n",
    "          \n",
    "        yield {\n",
    "                \"coords\": response.xpath(\"/html/body/div[2]/div[2]/div[1]/div[2]/p/a//@data-coords\").getall(),\n",
    "                \"scores\": response.xpath(\"/html/body/div[2]/div[2]/div[2]/div[1]/text()\").getall()            \n",
    "                  }\n",
    "\n",
    "filename = \"hotel_page.json\"\n",
    "\n",
    "if filename in os.listdir():\n",
    "        os.remove(filename)\n",
    "\n",
    "# Declare a new CrawlerProcess with some settings\n",
    "process = CrawlerProcess(settings = {\n",
    "    'USER_AGENT': 'Mozilla/4.0 (compatible; MSIE 7.0; Windows NT 5.1)',\n",
    "    'LOG_LEVEL': logging.INFO,\n",
    "    \"FEEDS\": {\n",
    "        filename : {\"format\": \"json\"},\n",
    "    }\n",
    "})\n",
    "\n",
    "# Start the crawling using the spider you defined above\n",
    "process.crawl(booking_hotelSpider)\n",
    "process.start()"
   ]
  },
  {
   "cell_type": "code",
   "execution_count": 4,
   "metadata": {},
   "outputs": [],
   "source": [
    "coords =pd.read_json('hotel_page.json')"
   ]
  },
  {
   "cell_type": "code",
   "execution_count": 5,
   "metadata": {},
   "outputs": [],
   "source": [
    "df_final = df_final.dropna()"
   ]
  },
  {
   "cell_type": "code",
   "execution_count": 6,
   "metadata": {},
   "outputs": [],
   "source": [
    "# Scores cleaning\n",
    "coords[\"scores\"] = coords[\"scores\"].apply(lambda x: x[1] if len(x) ==2 else '0.0')\n",
    "coords[\"scores_clean\"] = coords[\"scores\"].str.extract('(\\d+\\.\\d|\\d)')"
   ]
  },
  {
   "cell_type": "code",
   "execution_count": 7,
   "metadata": {},
   "outputs": [],
   "source": [
    "# Integration of coordinates and scores\n",
    "df_final['lon'] = coords['coords'].apply(lambda x: x[0].split(\",\")[0]).astype('float')\n",
    "df_final['lat'] = coords['coords'].apply(lambda x: x[0].split(\",\")[1]).astype('float')\n",
    "df_final['scores'] = coords[\"scores_clean\"].astype('float')"
   ]
  },
  {
   "cell_type": "code",
   "execution_count": 12,
   "metadata": {},
   "outputs": [
    {
     "data": {
      "text/html": [
       "<iframe\n",
       "    scrolling=\"no\"\n",
       "    width=\"100%\"\n",
       "    height=\"545px\"\n",
       "    src=\"iframe_figures/figure_12.html\"\n",
       "    frameborder=\"0\"\n",
       "    allowfullscreen\n",
       "></iframe>\n"
      ]
     },
     "metadata": {},
     "output_type": "display_data"
    }
   ],
   "source": [
    "# Map : hotels around top destinations based on the first map\n",
    "import plotly.express as px\n",
    "import plotly.io as pio\n",
    "import plotly.graph_objects as go\n",
    "\n",
    "pio.renderers.default = \"iframe_connected\"\n",
    "\n",
    "fig = px.scatter_mapbox(df_final,hover_name = 'title',lat=\"lat\",color='scores',size = 'scores', lon=\"lon\", zoom=4, mapbox_style=\"carto-positron\")\n",
    "fig.show()"
   ]
  }
 ],
 "metadata": {
  "kernelspec": {
   "display_name": "Python 3",
   "language": "python",
   "name": "python3"
  },
  "language_info": {
   "codemirror_mode": {
    "name": "ipython",
    "version": 3
   },
   "file_extension": ".py",
   "mimetype": "text/x-python",
   "name": "python",
   "nbconvert_exporter": "python",
   "pygments_lexer": "ipython3",
   "version": "3.8.5"
  }
 },
 "nbformat": 4,
 "nbformat_minor": 4
}
