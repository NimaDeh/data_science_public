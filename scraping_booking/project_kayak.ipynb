{
 "cells": [
  {
   "cell_type": "code",
   "execution_count": 2,
   "metadata": {},
   "outputs": [
    {
     "ename": "ModuleNotFoundError",
     "evalue": "No module named 'scrapy'",
     "output_type": "error",
     "traceback": [
      "\u001b[1;31m---------------------------------------------------------------------------\u001b[0m",
      "\u001b[1;31mModuleNotFoundError\u001b[0m                       Traceback (most recent call last)",
      "\u001b[1;32mC:\\Users\\STPHAN~1\\AppData\\Local\\Temp/ipykernel_21364/1211218650.py\u001b[0m in \u001b[0;36m<module>\u001b[1;34m\u001b[0m\n\u001b[0;32m      8\u001b[0m \u001b[1;32mimport\u001b[0m \u001b[0mos\u001b[0m\u001b[1;33m\u001b[0m\u001b[1;33m\u001b[0m\u001b[0m\n\u001b[0;32m      9\u001b[0m \u001b[1;32mimport\u001b[0m \u001b[0mlogging\u001b[0m\u001b[1;33m\u001b[0m\u001b[1;33m\u001b[0m\u001b[0m\n\u001b[1;32m---> 10\u001b[1;33m \u001b[1;32mimport\u001b[0m \u001b[0mscrapy\u001b[0m\u001b[1;33m\u001b[0m\u001b[1;33m\u001b[0m\u001b[0m\n\u001b[0m\u001b[0;32m     11\u001b[0m \u001b[1;32mfrom\u001b[0m \u001b[0mscrapy\u001b[0m\u001b[1;33m.\u001b[0m\u001b[0mcrawler\u001b[0m \u001b[1;32mimport\u001b[0m \u001b[0mCrawlerProcess\u001b[0m\u001b[1;33m\u001b[0m\u001b[1;33m\u001b[0m\u001b[0m\n\u001b[0;32m     12\u001b[0m \u001b[0mpd\u001b[0m\u001b[1;33m.\u001b[0m\u001b[0mset_option\u001b[0m\u001b[1;33m(\u001b[0m\u001b[1;34m'display.max_rows'\u001b[0m\u001b[1;33m,\u001b[0m \u001b[1;32mNone\u001b[0m\u001b[1;33m)\u001b[0m\u001b[1;33m\u001b[0m\u001b[1;33m\u001b[0m\u001b[0m\n",
      "\u001b[1;31mModuleNotFoundError\u001b[0m: No module named 'scrapy'"
     ]
    }
   ],
   "source": [
    "import requests\n",
    "import pandas as pd\n",
    "from bs4 import BeautifulSoup\n",
    "import plotly.io as pio\n",
    "import pandas as pd\n",
    "import plotly.express as px\n",
    "import plotly.graph_objects as go\n",
    "import os \n",
    "import logging\n",
    "import scrapy\n",
    "from scrapy.crawler import CrawlerProcess\n",
    "pd.set_option('display.max_rows', None)\n",
    "\n",
    "pio.renderers.default = \"iframe_connected\""
   ]
  },
  {
   "cell_type": "code",
   "execution_count": null,
   "metadata": {},
   "outputs": [],
   "source": [
    "cities_list = [\"Mont Saint Michel\",\"St Malo\",\"Bayeux\",\"Le Havre\",\"Rouen\",\"Paris\",\"Amiens\",\"Lille\",\"Strasbourg\",\"Chateau du Haut Koenigsbourg\",\"Colmar\",\"Eguisheim\",\"Besancon\",\"Dijon\",\"Annecy\",\"Grenoble\",\"Lyon\",\"Gorges du Verdon\",\"Bormes les Mimosas\",\"Cassis\",\n",
    "\"Marseille\",\n",
    "\"Aix en Provence\",\n",
    "\"Avignon\",\n",
    "\"Uzes\",\n",
    "\"Nimes\",\n",
    "\"Aigues Mortes\",\n",
    "\"Saintes Maries de la mer\",\n",
    "\"Collioure\",\n",
    "\"Carcassonne\",\n",
    "\"Ariege\",\n",
    "\"Toulouse\",\n",
    "\"Montauban\",\n",
    "\"Biarritz\",\n",
    "\"Bayonne\",\n",
    "\"La Rochelle\"];"
   ]
  },
  {
   "cell_type": "code",
   "execution_count": null,
   "metadata": {},
   "outputs": [],
   "source": [
    "cities = pd.DataFrame(data = cities_list,columns =['city'])\n",
    "cities[\"lat\"] = 0\n",
    "cities[\"lon\"] = 0\n",
    "cities[\"rain\"] = 0\n",
    "cities[\"rain_prob\"] = 0"
   ]
  },
  {
   "cell_type": "code",
   "execution_count": null,
   "metadata": {},
   "outputs": [],
   "source": [
    "# Recovering coordinates for each city\n",
    "for index,city in cities['city'].iteritems():\n",
    "    coord = requests.get(\"https://nominatim.openstreetmap.org/?q=<{},france>&format=json&limit=1\".format(city)).json()[0]\n",
    "    cities.loc[index,\"lat\"] = coord['lat']\n",
    "    cities.loc[index,\"lon\"] = coord['lon']\n",
    "\n",
    "cities[\"lat\"] = cities['lat'].astype('float')\n",
    "cities[\"lon\"] = cities['lon'].astype('float')"
   ]
  },
  {
   "cell_type": "code",
   "execution_count": null,
   "metadata": {},
   "outputs": [],
   "source": [
    "# Recovering weather data\n",
    "API_key = '116c6fd579d21074a961ae64785fefbd'\n",
    "for index,city in cities['city'].iteritems():\n",
    "    weather_daily = requests.get(\"https://api.openweathermap.org/data/2.5/onecall?lat={}&lon={}&exclude=hourly,minutely&appid={}&units=metric\".format(cities.loc[index,\"lat\"],cities.loc[index,\"lon\"],API_key)).json()['daily']\n",
    "    daily_rains = [day[\"pop\"]*day[\"rain\"] if 'rain' in day.keys() else 0 for day in weather_daily]\n",
    "    daily_clouds = [day[\"clouds\"] for day in weather_daily]\n",
    "    daily_temps = [day[\"temp\"]['max'] for day in weather_daily]\n",
    "    \n",
    "    if len(daily_rains) !=0 and len(daily_rains) is not None:\n",
    "        rain_avg = sum(daily_rains)/len(daily_rains)\n",
    "    else:\n",
    "        rain_avg = 0\n",
    "        \n",
    "    if len(daily_clouds) !=0 and len(daily_clouds) is not None:\n",
    "        cloud_avg = sum(daily_clouds)/len(daily_clouds)\n",
    "    else:\n",
    "        cloud_avg = 0\n",
    "    \n",
    "    if len(daily_temps) !=0 and len(daily_temps) is not None:\n",
    "        temp_avg = sum(daily_temps)/len(daily_temps)\n",
    "    else:\n",
    "        temp_avg = 0\n",
    "        \n",
    "    cities.loc[index,\"rain\"] = rain_avg\n",
    "    cities.loc[index,\"cloudiness\"] = cloud_avg\n",
    "    cities.loc[index,\"temperature_max\"] = temp_avg\n",
    "    \n",
    "    "
   ]
  },
  {
   "cell_type": "code",
   "execution_count": null,
   "metadata": {},
   "outputs": [],
   "source": [
    "cities_sorted = cities.sort_values(by='temperature_max',ascending=False,ignore_index=True).loc[:5,:]"
   ]
  },
  {
   "cell_type": "code",
   "execution_count": null,
   "metadata": {},
   "outputs": [],
   "source": [
    "# Map : top destinations in France based on temperature from weather data\n",
    "\n",
    "fig = px.scatter_mapbox(cities_sorted,hover_name = 'city',lat=\"lat\", lon=\"lon\", color=\"temperature_max\",size=\"rain\", zoom=4, mapbox_style=\"carto-positron\")\n",
    "fig.show()"
   ]
  },
  {
   "cell_type": "code",
   "execution_count": null,
   "metadata": {},
   "outputs": [],
   "source": [
    "best_cities = cities_sorted['city'].values.tolist()"
   ]
  },
  {
   "cell_type": "code",
   "execution_count": null,
   "metadata": {},
   "outputs": [],
   "source": [
    "# Scraping of booking.com\n",
    "\n",
    "class bookingSpider(scrapy.Spider):\n",
    "    \n",
    "    name =\"booking\"\n",
    "    \n",
    "    start_urls = [\"https://www.booking.com/searchresults.fr.html?ss={}\".format(city) for city in best_cities]\n",
    "\n",
    "    def parse(self,response):\n",
    "        \n",
    "        hotels = response.xpath(\"/html/body/div[2]/div[2]/div[2]\")\n",
    "        city = response.request.url.split(\"ss=\")[1].replace(\"%20\",' ')\n",
    "        \n",
    "        for hotel in hotels:            \n",
    "            yield {\n",
    "                \"city\" : city,\n",
    "                \"title\": hotel.xpath(\"div/h3/a/text()\").getall(),\n",
    "                \"url\": hotel.xpath(\"div/h3/a//@href\").getall(),\n",
    "                \"description\": hotel.xpath(\"div/div[1]/p[2]/text()\").getall(),\n",
    "                \"scores\": hotel.xpath(\"div/div[1]/div[1]/b\").getall()\n",
    "                  }\n",
    "\n",
    "filename = \"booking.json\"\n",
    "\n",
    "if filename in os.listdir():\n",
    "        os.remove(filename)\n",
    "\n",
    "# Declare a new CrawlerProcess with some settings\n",
    "process = CrawlerProcess(settings = {\n",
    "    'USER_AGENT': 'Mozilla/4.0 (compatible; MSIE 7.0; Windows NT 5.1)',\n",
    "    'LOG_LEVEL': logging.INFO,\n",
    "    \"FEEDS\": {\n",
    "        filename : {\"format\": \"json\"},\n",
    "    }\n",
    "})\n",
    "\n",
    "# Start the crawling using the spider you defined above\n",
    "process.crawl(bookingSpider)\n",
    "process.start()"
   ]
  },
  {
   "cell_type": "code",
   "execution_count": null,
   "metadata": {},
   "outputs": [],
   "source": [
    "import pandas as pd\n",
    "# Import file in a dataframe\n",
    "df =pd.read_json('booking.json')\n",
    "\n",
    "# Isolating description\n",
    "descr = df['description']\n",
    "df2=df.drop(columns='description')\n",
    "\n",
    "# Description processing\n",
    "descr_unested = descr.explode()\n",
    "descr_clean = descr_unested[descr_unested !='\\n']\n",
    "\n",
    "# Data unnest\n",
    "df_clean = df2.set_index('city').apply(pd.Series.explode).reset_index()\n",
    "\n",
    "# Concatenation\n",
    "descr_clean = descr_clean.reset_index(drop=True)\n",
    "df_final = pd.concat([df_clean,descr_clean],axis=1)\n",
    "\n",
    "# Data cleaning\n",
    "\n",
    "# URL\n",
    "url_add = pd.Series([\"https://www.booking.com\" for i in range(df_final.shape[0])])\n",
    "\n",
    "df_final[\"url\"] = url_add.str.cat(df_final[\"url\"])\n",
    "df_final[\"url\"] = df_final[\"url\"].str.split(\"?\").apply(lambda x: x[0])\n",
    "\n",
    "# Recovering scores\n",
    "df_final[\"scores\"] = df_final[\"scores\"].str.split('alt=\"').apply(lambda x: x[1].split('/')[0] if len(x) ==2 else 0)\n",
    "\n",
    "# Description\n",
    "df_final[\"description\"] = df_final[\"description\"].str.replace(\"\\n\",\"\")"
   ]
  },
  {
   "cell_type": "markdown",
   "metadata": {},
   "source": [
    " Scraping of hotel coordinates : it's necessary to restart the kernel to launch the crawler a second time, then execute the cell just above to load data from previous scraping\n"
   ]
  },
  {
   "cell_type": "code",
   "execution_count": null,
   "metadata": {},
   "outputs": [],
   "source": [
    "import os \n",
    "\n",
    "import logging\n",
    "\n",
    "import scrapy\n",
    "from scrapy.crawler import CrawlerProcess\n",
    "\n",
    "class booking_hotelSpider(scrapy.Spider):\n",
    "    \n",
    "    name =\"hotel_page\"\n",
    "    \n",
    "    start_urls = [url for url in df_final[\"url\"]]\n",
    "\n",
    "    def parse(self,response):\n",
    "          \n",
    "        yield {\n",
    "                \"coords\": response.xpath(\"/html/body/div[2]/div[2]/div[1]/div[2]/p/a//@data-coords\").getall(),\n",
    "                \"scores\": response.xpath(\"/html/body/div[2]/div[2]/div[2]/div[1]/text()\").getall()            \n",
    "                  }\n",
    "\n",
    "filename = \"hotel_page.json\"\n",
    "\n",
    "if filename in os.listdir():\n",
    "        os.remove(filename)\n",
    "\n",
    "# Declare a new CrawlerProcess with some settings\n",
    "process = CrawlerProcess(settings = {\n",
    "    'USER_AGENT': 'Mozilla/4.0 (compatible; MSIE 7.0; Windows NT 5.1)',\n",
    "    'LOG_LEVEL': logging.INFO,\n",
    "    \"FEEDS\": {\n",
    "        filename : {\"format\": \"json\"},\n",
    "    }\n",
    "})\n",
    "\n",
    "# Start the crawling using the spider you defined above\n",
    "process.crawl(booking_hotelSpider)\n",
    "process.start()"
   ]
  },
  {
   "cell_type": "code",
   "execution_count": null,
   "metadata": {},
   "outputs": [],
   "source": [
    "coords =pd.read_json('hotel_page.json')"
   ]
  },
  {
   "cell_type": "code",
   "execution_count": null,
   "metadata": {},
   "outputs": [],
   "source": [
    "df_final = df_final.dropna()"
   ]
  },
  {
   "cell_type": "code",
   "execution_count": null,
   "metadata": {},
   "outputs": [],
   "source": [
    "# Scores cleaning\n",
    "coords[\"scores\"] = coords[\"scores\"].apply(lambda x: x[1] if len(x) ==2 else '0.0')\n",
    "coords[\"scores_clean\"] = coords[\"scores\"].str.extract('(\\d+\\.\\d|\\d)')"
   ]
  },
  {
   "cell_type": "code",
   "execution_count": null,
   "metadata": {},
   "outputs": [],
   "source": [
    "# Integration of coordinates and scores\n",
    "df_final['lon'] = coords['coords'].apply(lambda x: x[0].split(\",\")[0]).astype('float')\n",
    "df_final['lat'] = coords['coords'].apply(lambda x: x[0].split(\",\")[1]).astype('float')\n",
    "df_final['scores'] = coords[\"scores_clean\"].astype('float')"
   ]
  },
  {
   "cell_type": "code",
   "execution_count": null,
   "metadata": {},
   "outputs": [],
   "source": [
    "# Map : hotels around top destinations based on the first map\n",
    "import plotly.express as px\n",
    "import plotly.io as pio\n",
    "import plotly.graph_objects as go\n",
    "\n",
    "pio.renderers.default = \"iframe_connected\"\n",
    "\n",
    "fig = px.scatter_mapbox(df_final,hover_name = 'title',lat=\"lat\",color='scores',size = 'scores', lon=\"lon\", zoom=4, mapbox_style=\"carto-positron\")\n",
    "fig.show()"
   ]
  }
 ],
 "metadata": {
  "kernelspec": {
   "display_name": "Python 3 (ipykernel)",
   "language": "python",
   "name": "python3"
  },
  "language_info": {
   "codemirror_mode": {
    "name": "ipython",
    "version": 3
   },
   "file_extension": ".py",
   "mimetype": "text/x-python",
   "name": "python",
   "nbconvert_exporter": "python",
   "pygments_lexer": "ipython3",
   "version": "3.9.6"
  }
 },
 "nbformat": 4,
 "nbformat_minor": 4
}
