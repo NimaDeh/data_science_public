{
 "cells": [
  {
   "cell_type": "code",
   "execution_count": 1,
   "metadata": {},
   "outputs": [
    {
     "name": "stdout",
     "output_type": "stream",
     "text": [
      "Collecting plotly\n",
      "  Using cached plotly-5.1.0-py2.py3-none-any.whl (20.6 MB)\n",
      "Requirement already satisfied: six in /opt/conda/lib/python3.8/site-packages (from plotly) (1.15.0)\n",
      "Collecting tenacity>=6.2.0\n",
      "  Using cached tenacity-8.0.1-py3-none-any.whl (24 kB)\n",
      "Installing collected packages: tenacity, plotly\n",
      "Successfully installed plotly-5.1.0 tenacity-8.0.1\n",
      "Collecting geopy\n",
      "  Using cached geopy-2.2.0-py3-none-any.whl (118 kB)\n",
      "Collecting geographiclib<2,>=1.49\n",
      "  Using cached geographiclib-1.52-py3-none-any.whl (38 kB)\n",
      "Installing collected packages: geographiclib, geopy\n",
      "Successfully installed geographiclib-1.52 geopy-2.2.0\n"
     ]
    }
   ],
   "source": [
    "!pip install plotly\n",
    "!pip install geopy"
   ]
  },
  {
   "cell_type": "code",
   "execution_count": 2,
   "metadata": {},
   "outputs": [],
   "source": [
    "import pandas as pd \n",
    "import numpy as np\n",
    "import sklearn\n",
    "import seaborn as sns \n",
    "import matplotlib.pyplot as plt\n",
    "import plotly.express as px \n",
    "import plotly.graph_objects as go\n",
    "import plotly.io as pio\n",
    "import geopy.distance\n",
    "import requests\n",
    "\n",
    "\n",
    "import warnings\n",
    "warnings.filterwarnings('ignore')\n",
    "\n",
    "from sklearn.cluster import KMeans\n",
    "from sklearn.cluster import DBSCAN\n",
    "\n",
    "from sklearn.model_selection import train_test_split\n",
    "from sklearn.preprocessing import StandardScaler\n",
    "from sklearn.preprocessing import LabelEncoder\n",
    "pio.renderers.default = \"iframe\""
   ]
  },
  {
   "cell_type": "code",
   "execution_count": null,
   "metadata": {},
   "outputs": [],
   "source": []
  },
  {
   "cell_type": "code",
   "execution_count": 3,
   "metadata": {},
   "outputs": [],
   "source": [
    "data = pd.read_csv('uber-raw-data-apr14.csv')"
   ]
  },
  {
   "cell_type": "code",
   "execution_count": 4,
   "metadata": {},
   "outputs": [
    {
     "data": {
      "text/plain": [
       "(113861, 4)"
      ]
     },
     "metadata": {},
     "output_type": "display_data"
    },
    {
     "data": {
      "text/plain": [
       "Date/Time     object\n",
       "Lat          float64\n",
       "Lon          float64\n",
       "Base          object\n",
       "dtype: object"
      ]
     },
     "metadata": {},
     "output_type": "display_data"
    },
    {
     "data": {
      "text/html": [
       "<div>\n",
       "<style scoped>\n",
       "    .dataframe tbody tr th:only-of-type {\n",
       "        vertical-align: middle;\n",
       "    }\n",
       "\n",
       "    .dataframe tbody tr th {\n",
       "        vertical-align: top;\n",
       "    }\n",
       "\n",
       "    .dataframe thead th {\n",
       "        text-align: right;\n",
       "    }\n",
       "</style>\n",
       "<table border=\"1\" class=\"dataframe\">\n",
       "  <thead>\n",
       "    <tr style=\"text-align: right;\">\n",
       "      <th></th>\n",
       "      <th>Date/Time</th>\n",
       "      <th>Lat</th>\n",
       "      <th>Lon</th>\n",
       "      <th>Base</th>\n",
       "    </tr>\n",
       "  </thead>\n",
       "  <tbody>\n",
       "    <tr>\n",
       "      <th>0</th>\n",
       "      <td>4/1/2014 0:11:00</td>\n",
       "      <td>40.7690</td>\n",
       "      <td>-73.9549</td>\n",
       "      <td>B02512</td>\n",
       "    </tr>\n",
       "    <tr>\n",
       "      <th>1</th>\n",
       "      <td>4/1/2014 0:17:00</td>\n",
       "      <td>40.7267</td>\n",
       "      <td>-74.0345</td>\n",
       "      <td>B02512</td>\n",
       "    </tr>\n",
       "    <tr>\n",
       "      <th>2</th>\n",
       "      <td>4/1/2014 0:21:00</td>\n",
       "      <td>40.7316</td>\n",
       "      <td>-73.9873</td>\n",
       "      <td>B02512</td>\n",
       "    </tr>\n",
       "    <tr>\n",
       "      <th>3</th>\n",
       "      <td>4/1/2014 0:28:00</td>\n",
       "      <td>40.7588</td>\n",
       "      <td>-73.9776</td>\n",
       "      <td>B02512</td>\n",
       "    </tr>\n",
       "    <tr>\n",
       "      <th>4</th>\n",
       "      <td>4/1/2014 0:33:00</td>\n",
       "      <td>40.7594</td>\n",
       "      <td>-73.9722</td>\n",
       "      <td>B02512</td>\n",
       "    </tr>\n",
       "  </tbody>\n",
       "</table>\n",
       "</div>"
      ],
      "text/plain": [
       "          Date/Time      Lat      Lon    Base\n",
       "0  4/1/2014 0:11:00  40.7690 -73.9549  B02512\n",
       "1  4/1/2014 0:17:00  40.7267 -74.0345  B02512\n",
       "2  4/1/2014 0:21:00  40.7316 -73.9873  B02512\n",
       "3  4/1/2014 0:28:00  40.7588 -73.9776  B02512\n",
       "4  4/1/2014 0:33:00  40.7594 -73.9722  B02512"
      ]
     },
     "metadata": {},
     "output_type": "display_data"
    },
    {
     "data": {
      "text/html": [
       "<div>\n",
       "<style scoped>\n",
       "    .dataframe tbody tr th:only-of-type {\n",
       "        vertical-align: middle;\n",
       "    }\n",
       "\n",
       "    .dataframe tbody tr th {\n",
       "        vertical-align: top;\n",
       "    }\n",
       "\n",
       "    .dataframe thead th {\n",
       "        text-align: right;\n",
       "    }\n",
       "</style>\n",
       "<table border=\"1\" class=\"dataframe\">\n",
       "  <thead>\n",
       "    <tr style=\"text-align: right;\">\n",
       "      <th></th>\n",
       "      <th>Date/Time</th>\n",
       "      <th>Lat</th>\n",
       "      <th>Lon</th>\n",
       "      <th>Base</th>\n",
       "    </tr>\n",
       "  </thead>\n",
       "  <tbody>\n",
       "    <tr>\n",
       "      <th>count</th>\n",
       "      <td>113861</td>\n",
       "      <td>113861.000000</td>\n",
       "      <td>113860.000000</td>\n",
       "      <td>113860</td>\n",
       "    </tr>\n",
       "    <tr>\n",
       "      <th>unique</th>\n",
       "      <td>29378</td>\n",
       "      <td>NaN</td>\n",
       "      <td>NaN</td>\n",
       "      <td>2</td>\n",
       "    </tr>\n",
       "    <tr>\n",
       "      <th>top</th>\n",
       "      <td>4/7/2014 20:21:00</td>\n",
       "      <td>NaN</td>\n",
       "      <td>NaN</td>\n",
       "      <td>B02598</td>\n",
       "    </tr>\n",
       "    <tr>\n",
       "      <th>freq</th>\n",
       "      <td>43</td>\n",
       "      <td>NaN</td>\n",
       "      <td>NaN</td>\n",
       "      <td>78324</td>\n",
       "    </tr>\n",
       "    <tr>\n",
       "      <th>mean</th>\n",
       "      <td>NaN</td>\n",
       "      <td>40.741480</td>\n",
       "      <td>-73.977672</td>\n",
       "      <td>NaN</td>\n",
       "    </tr>\n",
       "    <tr>\n",
       "      <th>std</th>\n",
       "      <td>NaN</td>\n",
       "      <td>0.036362</td>\n",
       "      <td>0.051749</td>\n",
       "      <td>NaN</td>\n",
       "    </tr>\n",
       "    <tr>\n",
       "      <th>min</th>\n",
       "      <td>NaN</td>\n",
       "      <td>40.225900</td>\n",
       "      <td>-74.703900</td>\n",
       "      <td>NaN</td>\n",
       "    </tr>\n",
       "    <tr>\n",
       "      <th>25%</th>\n",
       "      <td>NaN</td>\n",
       "      <td>40.723400</td>\n",
       "      <td>-73.997800</td>\n",
       "      <td>NaN</td>\n",
       "    </tr>\n",
       "    <tr>\n",
       "      <th>50%</th>\n",
       "      <td>NaN</td>\n",
       "      <td>40.744100</td>\n",
       "      <td>-73.984400</td>\n",
       "      <td>NaN</td>\n",
       "    </tr>\n",
       "    <tr>\n",
       "      <th>75%</th>\n",
       "      <td>NaN</td>\n",
       "      <td>40.761800</td>\n",
       "      <td>-73.969900</td>\n",
       "      <td>NaN</td>\n",
       "    </tr>\n",
       "    <tr>\n",
       "      <th>max</th>\n",
       "      <td>NaN</td>\n",
       "      <td>41.373000</td>\n",
       "      <td>-72.923700</td>\n",
       "      <td>NaN</td>\n",
       "    </tr>\n",
       "  </tbody>\n",
       "</table>\n",
       "</div>"
      ],
      "text/plain": [
       "                Date/Time            Lat            Lon    Base\n",
       "count              113861  113861.000000  113860.000000  113860\n",
       "unique              29378            NaN            NaN       2\n",
       "top     4/7/2014 20:21:00            NaN            NaN  B02598\n",
       "freq                   43            NaN            NaN   78324\n",
       "mean                  NaN      40.741480     -73.977672     NaN\n",
       "std                   NaN       0.036362       0.051749     NaN\n",
       "min                   NaN      40.225900     -74.703900     NaN\n",
       "25%                   NaN      40.723400     -73.997800     NaN\n",
       "50%                   NaN      40.744100     -73.984400     NaN\n",
       "75%                   NaN      40.761800     -73.969900     NaN\n",
       "max                   NaN      41.373000     -72.923700     NaN"
      ]
     },
     "metadata": {},
     "output_type": "display_data"
    }
   ],
   "source": [
    "display(data.shape)\n",
    "display(data.dtypes)\n",
    "display(data.head())\n",
    "display(data.describe(include='all'))"
   ]
  },
  {
   "cell_type": "code",
   "execution_count": 5,
   "metadata": {},
   "outputs": [],
   "source": [
    "data['dayofweek'] = pd.to_datetime(data[\"Date/Time\"]).dt.dayofweek\n",
    "data['hour'] = pd.to_datetime(data[\"Date/Time\"]).dt.hour\n",
    "\n",
    "coord = requests.get(\"https://nominatim.openstreetmap.org/?q=<manhattan>&format=json&limit=1\").json()[0]\n",
    "lat = float(coord['lat'])\n",
    "lon = float(coord['lon'])"
   ]
  },
  {
   "cell_type": "code",
   "execution_count": 6,
   "metadata": {},
   "outputs": [],
   "source": [
    "mask_lat = ~data.loc[:,'Lat'].isnull()\n",
    "mask_lon = ~data.loc[:,'Lon'].isnull()\n",
    "\n",
    "data = data.loc[(mask_lon) & (mask_lat),:]"
   ]
  },
  {
   "cell_type": "code",
   "execution_count": 12,
   "metadata": {},
   "outputs": [],
   "source": [
    "data[\"distance_to_center\"] = data.apply(lambda x: geopy.distance.distance((x['Lat'],x['Lon']), (lat,lon)).m,axis = 1)"
   ]
  },
  {
   "cell_type": "code",
   "execution_count": 13,
   "metadata": {},
   "outputs": [
    {
     "data": {
      "text/plain": [
       "0    2328.751024\n",
       "1    9408.283690\n",
       "2    6846.465854\n",
       "3    3735.124364\n",
       "4    3513.459106\n",
       "Name: distance_to_center, dtype: float64"
      ]
     },
     "execution_count": 13,
     "metadata": {},
     "output_type": "execute_result"
    }
   ],
   "source": [
    "data[\"distance_to_center\"].head()"
   ]
  },
  {
   "cell_type": "code",
   "execution_count": 14,
   "metadata": {},
   "outputs": [],
   "source": [
    "dataset = data.loc[(data['dayofweek']== 6) & (data['hour']== 12),:]\n",
    "\n",
    "X =dataset[[\"distance_to_center\"]].values"
   ]
  },
  {
   "cell_type": "code",
   "execution_count": 31,
   "metadata": {},
   "outputs": [
    {
     "data": {
      "text/html": [
       "<iframe\n",
       "    scrolling=\"no\"\n",
       "    width=\"100%\"\n",
       "    height=\"545px\"\n",
       "    src=\"iframe_figures/figure_31.html\"\n",
       "    frameborder=\"0\"\n",
       "    allowfullscreen\n",
       "></iframe>\n"
      ]
     },
     "metadata": {},
     "output_type": "display_data"
    }
   ],
   "source": [
    "\n",
    "# Clusqter haute densité\n",
    "db = DBSCAN(eps=500, min_samples=50\n",
    "            , metric=\"manhattan\", algorithm=\"brute\")\n",
    "\n",
    "# Fit on data \n",
    "db.fit(X)\n",
    "\n",
    "# Visualize with plotly \n",
    "\n",
    "\n",
    "cluster_haute_densite = db.labels_\n",
    "\n",
    "\n",
    "# Cluster basse densité\n",
    "db_basse_densite = DBSCAN(eps=0.015, min_samples=20\n",
    "            , metric=\"manhattan\", algorithm=\"brute\")\n",
    "\n",
    "# Fit on data \n",
    "db_basse_densite.fit(X)\n",
    "\n",
    "cluster_basse_densite = db_basse_densite.labels_\n",
    "\n",
    "dataset[\"haute_densite\"] = cluster_haute_densite !=-1\n",
    "dataset[\"basse_densite\"] = cluster_basse_densite !=-1\n",
    "\n",
    "dataset[\"haute_densite\"] = dataset[\"haute_densite\"].astype(\"int\")\n",
    "dataset[\"basse_densite\"] = dataset[\"basse_densite\"].astype(\"int\")\n",
    "\n",
    "\n",
    "fig = px.scatter_mapbox(dataset,hover_name =db.labels_,lat='Lat', lon='Lon', color=db.labels_,zoom=10, mapbox_style=\"carto-positron\")\n",
    "fig.show(\"iframe\")\n"
   ]
  },
  {
   "cell_type": "code",
   "execution_count": 11,
   "metadata": {},
   "outputs": [
    {
     "name": "stdout",
     "output_type": "stream",
     "text": [
      "(513,)\n"
     ]
    },
    {
     "data": {
      "text/plain": [
       "(513,)"
      ]
     },
     "execution_count": 11,
     "metadata": {},
     "output_type": "execute_result"
    }
   ],
   "source": [
    "print(dataset[\"haute_densite\"].shape)\n",
    "(cluster_haute_densite !=-1).astype(\"int\").shape"
   ]
  },
  {
   "cell_type": "code",
   "execution_count": 12,
   "metadata": {},
   "outputs": [],
   "source": [
    "for i in range(24):\n",
    "\n",
    "    dataset = data.loc[(data['dayofweek']== 6) & (data['hour']== i),:]\n",
    "    X =dataset[[\"Lat\",'Lon']].values\n",
    "\n",
    "    # Cluster haute densité\n",
    "    db = DBSCAN(eps=0.015, min_samples=70, metric=\"manhattan\", algorithm=\"brute\")\n",
    "\n",
    "    # Fit on data \n",
    "    db.fit(X)\n",
    "    cluster_haute_densite = db.labels_\n",
    "\n",
    "\n",
    "    # Cluster basse densité\n",
    "    db_basse_densite = DBSCAN(eps=0.015, min_samples=20, metric=\"manhattan\", algorithm=\"brute\")\n",
    "\n",
    "    # Fit on data \n",
    "    db_basse_densite.fit(X)\n",
    "\n",
    "    cluster_basse_densite = db_basse_densite.labels_\n",
    "\n",
    "    data.loc[(data['dayofweek']== 6) & (data['hour']== i),\"haute_densite\"] = (cluster_haute_densite !=-1).astype(\"int\")\n",
    "    data.loc[(data['dayofweek']== 6) & (data['hour']== i),\"basse_densite\"] = (cluster_basse_densite !=-1).astype(\"int\")\n"
   ]
  },
  {
   "cell_type": "code",
   "execution_count": 13,
   "metadata": {},
   "outputs": [
    {
     "data": {
      "text/plain": [
       "Index(['Date/Time', 'Lat', 'Lon', 'Base', 'dayofweek', 'hour',\n",
       "       'distance_to_center', 'haute_densite', 'basse_densite'],\n",
       "      dtype='object')"
      ]
     },
     "execution_count": 13,
     "metadata": {},
     "output_type": "execute_result"
    }
   ],
   "source": [
    "data.columns"
   ]
  },
  {
   "cell_type": "code",
   "execution_count": 14,
   "metadata": {},
   "outputs": [
    {
     "data": {
      "text/html": [
       "<iframe\n",
       "    scrolling=\"no\"\n",
       "    width=\"100%\"\n",
       "    height=\"545px\"\n",
       "    src=\"iframe_figures/figure_14.html\"\n",
       "    frameborder=\"0\"\n",
       "    allowfullscreen\n",
       "></iframe>\n"
      ]
     },
     "metadata": {},
     "output_type": "display_data"
    }
   ],
   "source": [
    "fig = px.scatter_mapbox(data, lat=\"Lat\", lon=\"Lon\", color=\"haute_densite\", zoom = 10,\n",
    "                        mapbox_style=\"open-street-map\", color_continuous_scale = 'Reds', range_color = [5.0,10.0],\n",
    "                       animation_frame = 'hour')\n",
    "fig.show(\"iframe\")"
   ]
  },
  {
   "cell_type": "code",
   "execution_count": 15,
   "metadata": {},
   "outputs": [
    {
     "ename": "NameError",
     "evalue": "name 'earthquakes' is not defined",
     "output_type": "error",
     "traceback": [
      "\u001b[0;31m---------------------------------------------------------------------------\u001b[0m",
      "\u001b[0;31mNameError\u001b[0m                                 Traceback (most recent call last)",
      "\u001b[0;32m<ipython-input-15-084f799f2e69>\u001b[0m in \u001b[0;36m<module>\u001b[0;34m\u001b[0m\n\u001b[0;32m----> 1\u001b[0;31m fig = px.density_mapbox(earthquakes, lat=\"Latitude\", lon=\"Longitude\", mapbox_style=\"open-street-map\",\n\u001b[0m\u001b[1;32m      2\u001b[0m                        animation_frame = 'hour', zoom = 10, radius = 10)\n\u001b[1;32m      3\u001b[0m \u001b[0mfig\u001b[0m\u001b[0;34m.\u001b[0m\u001b[0mshow\u001b[0m\u001b[0;34m(\u001b[0m\u001b[0;34m)\u001b[0m\u001b[0;34m\u001b[0m\u001b[0;34m\u001b[0m\u001b[0m\n",
      "\u001b[0;31mNameError\u001b[0m: name 'earthquakes' is not defined"
     ]
    }
   ],
   "source": [
    "fig = px.density_mapbox(earthquakes, lat=\"Latitude\", lon=\"Longitude\", mapbox_style=\"open-street-map\",\n",
    "                       animation_frame = 'hour', zoom = 10, radius = 10)\n",
    "fig.show()"
   ]
  }
 ],
 "metadata": {
  "kernelspec": {
   "display_name": "Python 3",
   "language": "python",
   "name": "python3"
  },
  "language_info": {
   "codemirror_mode": {
    "name": "ipython",
    "version": 3
   },
   "file_extension": ".py",
   "mimetype": "text/x-python",
   "name": "python",
   "nbconvert_exporter": "python",
   "pygments_lexer": "ipython3",
   "version": "3.8.6"
  }
 },
 "nbformat": 4,
 "nbformat_minor": 4
}
