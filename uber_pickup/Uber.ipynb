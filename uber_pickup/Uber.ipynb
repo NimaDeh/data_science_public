{
 "cells": [
  {
   "cell_type": "code",
   "execution_count": 2,
   "metadata": {},
   "outputs": [],
   "source": [
    "import pandas as pd \n",
    "import numpy as np\n",
    "import sklearn\n",
    "import seaborn as sns \n",
    "import matplotlib.pyplot as plt\n",
    "import plotly.express as px \n",
    "import plotly.graph_objects as go\n",
    "import plotly.io as pio\n",
    "import geopy.distance\n",
    "import requests\n",
    "\n",
    "\n",
    "import warnings\n",
    "warnings.filterwarnings('ignore')\n",
    "\n",
    "from sklearn.cluster import KMeans\n",
    "from sklearn.cluster import DBSCAN\n",
    "\n",
    "from sklearn.model_selection import train_test_split\n",
    "from sklearn.preprocessing import StandardScaler\n",
    "from sklearn.preprocessing import LabelEncoder\n",
    "pio.renderers.default = \"iframe\""
   ]
  },
  {
   "cell_type": "code",
   "execution_count": null,
   "metadata": {},
   "outputs": [],
   "source": []
  },
  {
   "cell_type": "code",
   "execution_count": null,
   "metadata": {},
   "outputs": [],
   "source": [
    "data = pd.read_csv('uber-raw-data-apr14.csv')"
   ]
  },
  {
   "cell_type": "code",
   "execution_count": null,
   "metadata": {},
   "outputs": [],
   "source": [
    "display(data.shape)\n",
    "display(data.dtypes)\n",
    "display(data.head())\n",
    "display(data.describe(include='all'))"
   ]
  },
  {
   "cell_type": "code",
   "execution_count": null,
   "metadata": {},
   "outputs": [],
   "source": [
    "data['dayofweek'] = pd.to_datetime(data[\"Date/Time\"]).dt.dayofweek\n",
    "data['hour'] = pd.to_datetime(data[\"Date/Time\"]).dt.hour\n",
    "\n",
    "coord = requests.get(\"https://nominatim.openstreetmap.org/?q=<manhattan>&format=json&limit=1\").json()[0]\n",
    "lat = float(coord['lat'])\n",
    "lon = float(coord['lon'])"
   ]
  },
  {
   "cell_type": "code",
   "execution_count": null,
   "metadata": {},
   "outputs": [],
   "source": [
    "mask_lat = ~data.loc[:,'Lat'].isnull()\n",
    "mask_lon = ~data.loc[:,'Lon'].isnull()\n",
    "\n",
    "data = data.loc[(mask_lon) & (mask_lat),:]"
   ]
  },
  {
   "cell_type": "code",
   "execution_count": null,
   "metadata": {},
   "outputs": [],
   "source": [
    "data[\"distance_to_center\"] = data.apply(lambda x: geopy.distance.distance((x['Lat'],x['Lon']), (lat,lon)).m,axis = 1)"
   ]
  },
  {
   "cell_type": "code",
   "execution_count": null,
   "metadata": {},
   "outputs": [],
   "source": [
    "data[\"distance_to_center\"].head()"
   ]
  },
  {
   "cell_type": "code",
   "execution_count": null,
   "metadata": {},
   "outputs": [],
   "source": [
    "dataset = data.loc[(data['dayofweek']== 6) & (data['hour']== 12),:]\n",
    "\n",
    "X =dataset[[\"distance_to_center\"]].values"
   ]
  },
  {
   "cell_type": "code",
   "execution_count": null,
   "metadata": {},
   "outputs": [],
   "source": [
    "\n",
    "# Clusqter haute densité\n",
    "db = DBSCAN(eps=500, min_samples=50\n",
    "            , metric=\"manhattan\", algorithm=\"brute\")\n",
    "\n",
    "# Fit on data \n",
    "db.fit(X)\n",
    "\n",
    "# Visualize with plotly \n",
    "\n",
    "\n",
    "cluster_haute_densite = db.labels_\n",
    "\n",
    "\n",
    "# Cluster basse densité\n",
    "db_basse_densite = DBSCAN(eps=0.015, min_samples=20\n",
    "            , metric=\"manhattan\", algorithm=\"brute\")\n",
    "\n",
    "# Fit on data \n",
    "db_basse_densite.fit(X)\n",
    "\n",
    "cluster_basse_densite = db_basse_densite.labels_\n",
    "\n",
    "dataset[\"haute_densite\"] = cluster_haute_densite !=-1\n",
    "dataset[\"basse_densite\"] = cluster_basse_densite !=-1\n",
    "\n",
    "dataset[\"haute_densite\"] = dataset[\"haute_densite\"].astype(\"int\")\n",
    "dataset[\"basse_densite\"] = dataset[\"basse_densite\"].astype(\"int\")\n",
    "\n",
    "\n",
    "fig = px.scatter_mapbox(dataset,hover_name =db.labels_,lat='Lat', lon='Lon', color=db.labels_,zoom=10, mapbox_style=\"carto-positron\")\n",
    "fig.show(\"iframe\")\n"
   ]
  },
  {
   "cell_type": "code",
   "execution_count": null,
   "metadata": {},
   "outputs": [],
   "source": [
    "print(dataset[\"haute_densite\"].shape)\n",
    "(cluster_haute_densite !=-1).astype(\"int\").shape"
   ]
  },
  {
   "cell_type": "code",
   "execution_count": null,
   "metadata": {},
   "outputs": [],
   "source": [
    "for i in range(24):\n",
    "\n",
    "    dataset = data.loc[(data['dayofweek']== 6) & (data['hour']== i),:]\n",
    "    X =dataset[[\"Lat\",'Lon']].values\n",
    "\n",
    "    # Cluster haute densité\n",
    "    db = DBSCAN(eps=0.015, min_samples=70, metric=\"manhattan\", algorithm=\"brute\")\n",
    "\n",
    "    # Fit on data \n",
    "    db.fit(X)\n",
    "    cluster_haute_densite = db.labels_\n",
    "\n",
    "\n",
    "    # Cluster basse densité\n",
    "    db_basse_densite = DBSCAN(eps=0.015, min_samples=20, metric=\"manhattan\", algorithm=\"brute\")\n",
    "\n",
    "    # Fit on data \n",
    "    db_basse_densite.fit(X)\n",
    "\n",
    "    cluster_basse_densite = db_basse_densite.labels_\n",
    "\n",
    "    data.loc[(data['dayofweek']== 6) & (data['hour']== i),\"haute_densite\"] = (cluster_haute_densite !=-1).astype(\"int\")\n",
    "    data.loc[(data['dayofweek']== 6) & (data['hour']== i),\"basse_densite\"] = (cluster_basse_densite !=-1).astype(\"int\")\n"
   ]
  },
  {
   "cell_type": "code",
   "execution_count": null,
   "metadata": {},
   "outputs": [],
   "source": [
    "data.columns"
   ]
  },
  {
   "cell_type": "code",
   "execution_count": null,
   "metadata": {},
   "outputs": [],
   "source": [
    "fig = px.scatter_mapbox(data, lat=\"Lat\", lon=\"Lon\", color=\"haute_densite\", zoom = 10,\n",
    "                        mapbox_style=\"open-street-map\", color_continuous_scale = 'Reds', range_color = [5.0,10.0],\n",
    "                       animation_frame = 'hour')\n",
    "fig.show(\"iframe\")"
   ]
  },
  {
   "cell_type": "code",
   "execution_count": null,
   "metadata": {},
   "outputs": [],
   "source": [
    "fig = px.density_mapbox(earthquakes, lat=\"Latitude\", lon=\"Longitude\", mapbox_style=\"open-street-map\",\n",
    "                       animation_frame = 'hour', zoom = 10, radius = 10)\n",
    "fig.show()"
   ]
  }
 ],
 "metadata": {
  "kernelspec": {
   "display_name": "Python 3",
   "language": "python",
   "name": "python3"
  },
  "language_info": {
   "codemirror_mode": {
    "name": "ipython",
    "version": 3
   },
   "file_extension": ".py",
   "mimetype": "text/x-python",
   "name": "python",
   "nbconvert_exporter": "python",
   "pygments_lexer": "ipython3",
   "version": "3.7.10"
  }
 },
 "nbformat": 4,
 "nbformat_minor": 4
}
