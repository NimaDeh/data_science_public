{
 "cells": [
  {
   "cell_type": "code",
   "execution_count": 1,
   "metadata": {},
   "outputs": [],
   "source": [
    "import requests\n",
    "import pandas as pd\n",
    "from bs4 import BeautifulSoup\n",
    "import plotly.io as pio\n",
    "import pandas as pd\n",
    "import plotly.express as px\n",
    "import plotly.graph_objects as go\n",
    "pio.renderers.default = \"iframe_connected\""
   ]
  },
  {
   "cell_type": "code",
   "execution_count": 2,
   "metadata": {},
   "outputs": [],
   "source": [
    "cities_list = [\"Mont Saint Michel\",\"St Malo\",\"Bayeux\",\"Le Havre\",\"Rouen\",\"Paris\",\"Amiens\",\"Lille\",\"Strasbourg\",\"Chateau du Haut Koenigsbourg\",\"Colmar\",\"Eguisheim\",\"Besancon\",\"Dijon\",\"Annecy\",\"Grenoble\",\"Lyon\",\"Gorges du Verdon\",\"Bormes les Mimosas\",\"Cassis\",\n",
    "\"Marseille\",\n",
    "\"Aix en Provence\",\n",
    "\"Avignon\",\n",
    "\"Uzes\",\n",
    "\"Nimes\",\n",
    "\"Aigues Mortes\",\n",
    "\"Saintes Maries de la mer\",\n",
    "\"Collioure\",\n",
    "\"Carcassonne\",\n",
    "\"Ariege\",\n",
    "\"Toulouse\",\n",
    "\"Montauban\",\n",
    "\"Biarritz\",\n",
    "\"Bayonne\",\n",
    "\"La Rochelle\"];"
   ]
  },
  {
   "cell_type": "code",
   "execution_count": 3,
   "metadata": {},
   "outputs": [
    {
     "data": {
      "text/plain": [
       "['Mont Saint Michel',\n",
       " 'St Malo',\n",
       " 'Bayeux',\n",
       " 'Le Havre',\n",
       " 'Rouen',\n",
       " 'Paris',\n",
       " 'Amiens',\n",
       " 'Lille',\n",
       " 'Strasbourg',\n",
       " 'Chateau du Haut Koenigsbourg',\n",
       " 'Colmar',\n",
       " 'Eguisheim',\n",
       " 'Besancon',\n",
       " 'Dijon',\n",
       " 'Annecy',\n",
       " 'Grenoble',\n",
       " 'Lyon',\n",
       " 'Gorges du Verdon',\n",
       " 'Bormes les Mimosas',\n",
       " 'Cassis',\n",
       " 'Marseille',\n",
       " 'Aix en Provence',\n",
       " 'Avignon',\n",
       " 'Uzes',\n",
       " 'Nimes',\n",
       " 'Aigues Mortes',\n",
       " 'Saintes Maries de la mer',\n",
       " 'Collioure',\n",
       " 'Carcassonne',\n",
       " 'Ariege',\n",
       " 'Toulouse',\n",
       " 'Montauban',\n",
       " 'Biarritz',\n",
       " 'Bayonne',\n",
       " 'La Rochelle']"
      ]
     },
     "execution_count": 3,
     "metadata": {},
     "output_type": "execute_result"
    }
   ],
   "source": [
    "cities_list"
   ]
  },
  {
   "cell_type": "code",
   "execution_count": 4,
   "metadata": {},
   "outputs": [],
   "source": [
    "cities = pd.DataFrame(data = cities_list,columns =['city'])\n",
    "cities[\"lat\"] = 0\n",
    "cities[\"lon\"] = 0\n",
    "cities[\"rain\"] = 0\n",
    "cities[\"rain_prob\"] = 0"
   ]
  },
  {
   "cell_type": "code",
   "execution_count": 5,
   "metadata": {},
   "outputs": [],
   "source": [
    "for index,city in cities['city'].iteritems():\n",
    "    coord = requests.get(\"https://nominatim.openstreetmap.org/?q=<{},france>&format=json&limit=1\".format(city)).json()[0]\n",
    "    cities.loc[index,\"lat\"] = coord['lat']\n",
    "    cities.loc[index,\"lon\"] = coord['lon']\n",
    "\n",
    "cities[\"lat\"] = cities['lat'].astype('float')\n",
    "cities[\"lon\"] = cities['lon'].astype('float')"
   ]
  },
  {
   "cell_type": "code",
   "execution_count": null,
   "metadata": {},
   "outputs": [],
   "source": []
  },
  {
   "cell_type": "code",
   "execution_count": 6,
   "metadata": {},
   "outputs": [],
   "source": [
    "# Weather\n",
    "API_key= '116c6fd579d21074a961ae64785fefbd'\n",
    "weather = requests.get(\"https://api.openweathermap.org/data/2.5/onecall?lat=48.8566969&lon=2.3514616&exclude=hourly,minutely&appid=116c6fd579d21074a961ae64785fefbd\")\n",
    "days =weather.json()['daily']\n",
    "expected_rain = [day[\"pop\"]*day[\"rain\"] if 'rain' in day.keys() else 0 for day in days]"
   ]
  },
  {
   "cell_type": "code",
   "execution_count": null,
   "metadata": {},
   "outputs": [],
   "source": []
  },
  {
   "cell_type": "code",
   "execution_count": 7,
   "metadata": {},
   "outputs": [],
   "source": [
    "API_key = '116c6fd579d21074a961ae64785fefbd'\n",
    "for index,city in cities['city'].iteritems():\n",
    "    weather_daily = requests.get(\"https://api.openweathermap.org/data/2.5/onecall?lat={}&lon={}&exclude=hourly,minutely&appid={}&units=metric\".format(cities.loc[index,\"lat\"],cities.loc[index,\"lon\"],API_key)).json()['daily']\n",
    "    daily_rains = [day[\"pop\"]*day[\"rain\"] if 'rain' in day.keys() else 0 for day in weather_daily]\n",
    "    daily_clouds = [day[\"clouds\"] for day in weather_daily]\n",
    "    daily_temps = [day[\"temp\"]['max'] for day in weather_daily]\n",
    "    \n",
    "    if len(daily_rains) !=0 and len(daily_rains) is not None:\n",
    "        rain_avg = sum(daily_rains)/len(daily_rains)\n",
    "    else:\n",
    "        rain_avg = 0\n",
    "        \n",
    "    if len(daily_clouds) !=0 and len(daily_clouds) is not None:\n",
    "        cloud_avg = sum(daily_clouds)/len(daily_clouds)\n",
    "    else:\n",
    "        cloud_avg = 0\n",
    "    \n",
    "    if len(daily_temps) !=0 and len(daily_temps) is not None:\n",
    "        temp_avg = sum(daily_temps)/len(daily_temps)\n",
    "    else:\n",
    "        temp_avg = 0\n",
    "        \n",
    "    cities.loc[index,\"rain\"] = rain_avg\n",
    "    cities.loc[index,\"cloudiness\"] = cloud_avg\n",
    "    cities.loc[index,\"temperature_max\"] = temp_avg\n",
    "    \n",
    "    "
   ]
  },
  {
   "cell_type": "code",
   "execution_count": null,
   "metadata": {},
   "outputs": [],
   "source": []
  },
  {
   "cell_type": "code",
   "execution_count": 8,
   "metadata": {},
   "outputs": [],
   "source": [
    "cities_sorted = cities.sort_values(by='temperature_max',ascending=False,ignore_index=True).loc[:20,:]"
   ]
  },
  {
   "cell_type": "code",
   "execution_count": 9,
   "metadata": {},
   "outputs": [
    {
     "data": {
      "text/html": [
       "<iframe\n",
       "    scrolling=\"no\"\n",
       "    width=\"100%\"\n",
       "    height=\"545px\"\n",
       "    src=\"iframe_figures/figure_9.html\"\n",
       "    frameborder=\"0\"\n",
       "    allowfullscreen\n",
       "></iframe>\n"
      ]
     },
     "metadata": {},
     "output_type": "display_data"
    }
   ],
   "source": [
    "fig = px.scatter_mapbox(cities_sorted,hover_name = 'city',lat=\"lat\", lon=\"lon\", color=\"temperature_max\",size=\"rain\", zoom=4, mapbox_style=\"carto-positron\")\n",
    "fig.show()"
   ]
  },
  {
   "cell_type": "code",
   "execution_count": null,
   "metadata": {},
   "outputs": [],
   "source": []
  },
  {
   "cell_type": "code",
   "execution_count": null,
   "metadata": {},
   "outputs": [],
   "source": []
  },
  {
   "cell_type": "code",
   "execution_count": 10,
   "metadata": {},
   "outputs": [
    {
     "ename": "ModuleNotFoundError",
     "evalue": "No module named 'scrapy'",
     "output_type": "error",
     "traceback": [
      "\u001b[1;31m---------------------------------------------------------------------------\u001b[0m",
      "\u001b[1;31mModuleNotFoundError\u001b[0m                       Traceback (most recent call last)",
      "\u001b[1;32m<ipython-input-10-e8e5cd96836d>\u001b[0m in \u001b[0;36m<module>\u001b[1;34m\u001b[0m\n\u001b[0;32m      8\u001b[0m \u001b[1;33m\u001b[0m\u001b[0m\n\u001b[0;32m      9\u001b[0m \u001b[1;31m# Import scrapy and scrapy.crawler\u001b[0m\u001b[1;33m\u001b[0m\u001b[1;33m\u001b[0m\u001b[1;33m\u001b[0m\u001b[0m\n\u001b[1;32m---> 10\u001b[1;33m \u001b[1;32mimport\u001b[0m \u001b[0mscrapy\u001b[0m\u001b[1;33m\u001b[0m\u001b[1;33m\u001b[0m\u001b[0m\n\u001b[0m\u001b[0;32m     11\u001b[0m \u001b[1;32mfrom\u001b[0m \u001b[0mscrapy\u001b[0m\u001b[1;33m.\u001b[0m\u001b[0mcrawler\u001b[0m \u001b[1;32mimport\u001b[0m \u001b[0mCrawlerProcess\u001b[0m\u001b[1;33m\u001b[0m\u001b[1;33m\u001b[0m\u001b[0m\n",
      "\u001b[1;31mModuleNotFoundError\u001b[0m: No module named 'scrapy'"
     ]
    }
   ],
   "source": [
    "# Import os => Library used to easily manipulate operating systems\n",
    "## More info => https://docs.python.org/3/library/os.html\n",
    "import os \n",
    "\n",
    "# Import logging => Library used for logs manipulation \n",
    "## More info => https://docs.python.org/3/library/logging.html\n",
    "import logging\n",
    "\n",
    "# Import scrapy and scrapy.crawler \n",
    "import scrapy\n",
    "from scrapy.crawler import CrawlerProcess"
   ]
  },
  {
   "cell_type": "code",
   "execution_count": null,
   "metadata": {},
   "outputs": [],
   "source": [
    "\n",
    "\n",
    "class bookingSpider(scrapy.Spider):\n",
    "    \n",
    "    name =\"booking\"\n",
    "    \n",
    "    start_urls = [\"https://www.booking.com/searchresults.fr.html?ss={}\".format(city) for city in cities_list]\n",
    "\n",
    "    def parse(self,response):\n",
    "        \n",
    "        hotels = response.xpath(\"/html/body/div[2]/div[2]/div[2]\")\n",
    "        city = response.request.url.split(\"ss=\")[1].replace(\"%20\",' ')\n",
    "        \n",
    "        for hotel in hotels:            \n",
    "            yield {\n",
    "                \"city\" : city,\n",
    "                \"title\": hotel.xpath(\"div/h3/a/text()\").getall(),\n",
    "                \"url\": hotel.xpath(\"div/h3/a//@href\").getall(),\n",
    "                \"description\": hotel.xpath(\"div/div[1]/p[2]/text()\").getall(),\n",
    "                \"scores\": hotel.xpath(\"div/div[1]/div[1]/b\").getall()\n",
    "                  }\n",
    "\n",
    "filename = \"booking.json\"\n",
    "\n",
    "if filename in os.listdir():\n",
    "        os.remove(filename)\n",
    "\n",
    "# Declare a new CrawlerProcess with some settings\n",
    "process = CrawlerProcess(settings = {\n",
    "    'USER_AGENT': 'Mozilla/4.0 (compatible; MSIE 7.0; Windows NT 5.1)',\n",
    "    'LOG_LEVEL': logging.INFO,\n",
    "    \"FEEDS\": {\n",
    "        filename : {\"format\": \"json\"},\n",
    "    }\n",
    "})\n",
    "\n",
    "# Start the crawling using the spider you defined above\n",
    "process.crawl(bookingSpider)\n",
    "process.start()"
   ]
  },
  {
   "cell_type": "code",
   "execution_count": null,
   "metadata": {},
   "outputs": [],
   "source": [
    "import pandas as pd\n",
    "#import du fichier dans un dataframe\n",
    "df =pd.read_json('booking.json')\n",
    "\n",
    "#isolement de la colonne description\n",
    "descr = df['description']\n",
    "df2=df.drop(columns='description')\n",
    "\n",
    "#traitement (unnest) de description\n",
    "descr_unested = descr.explode()\n",
    "descr_clean = descr_unested[descr_unested !='\\n']\n",
    "\n",
    "#unnest le reste des données\n",
    "df_clean = df2.set_index('city').apply(pd.Series.explode).reset_index()\n",
    "\n",
    "#concaténation\n",
    "descr_clean = descr_clean.reset_index(drop=True)\n",
    "df_final = pd.concat([df_clean,descr_clean],axis=1)\n",
    "\n",
    "#Nettoyage des données\n",
    "\n",
    "#complétion de l'url\n",
    "url_add = pd.Series([\"https://www.booking.com\" for i in range(df_final.shape[0])])\n",
    "\n",
    "df_final[\"url\"] = url_add.str.cat(df_final[\"url\"])\n",
    "df_final[\"url\"] = df_final[\"url\"].str.split(\"?\").apply(lambda x: x[0])\n",
    "\n",
    "#Récupération des scores\n",
    "df_final[\"scores\"] = df_final[\"scores\"].str.split('alt=\"').apply(lambda x: x[1].split('/')[0] if len(x) ==2 else 0)\n",
    "\n",
    "#Description\n",
    "df_final[\"description\"] = df_final[\"description\"].str.replace(\"\\n\",\"\")"
   ]
  },
  {
   "cell_type": "code",
   "execution_count": null,
   "metadata": {},
   "outputs": [],
   "source": [
    "df_final"
   ]
  },
  {
   "cell_type": "code",
   "execution_count": null,
   "metadata": {},
   "outputs": [],
   "source": [
    "!pip install Scrapy"
   ]
  },
  {
   "cell_type": "code",
   "execution_count": null,
   "metadata": {},
   "outputs": [],
   "source": [
    "import os \n",
    "\n",
    "# Import logging => Library used for logs manipulation \n",
    "## More info => https://docs.python.org/3/library/logging.html\n",
    "import logging\n",
    "\n",
    "# Import scrapy and scrapy.crawler \n",
    "import scrapy\n",
    "from scrapy.crawler import CrawlerProcess\n",
    "\n",
    "class booking_hotelSpider(scrapy.Spider):\n",
    "    \n",
    "    name =\"hotel_page\"\n",
    "    \n",
    "    start_urls = [url for url in df_final[\"url\"]]\n",
    "\n",
    "    def parse(self,response):\n",
    "          \n",
    "        yield {\n",
    "                \"coords\": response.xpath(\"/html/body/div[2]/div[2]/div[1]/div[2]/p/a//@data-coords\").getall()\n",
    "                  }\n",
    "\n",
    "filename = \"hotel_page.json\"\n",
    "\n",
    "if filename in os.listdir():\n",
    "        os.remove(filename)\n",
    "\n",
    "# Declare a new CrawlerProcess with some settings\n",
    "process = CrawlerProcess(settings = {\n",
    "    'USER_AGENT': 'Mozilla/4.0 (compatible; MSIE 7.0; Windows NT 5.1)',\n",
    "    'LOG_LEVEL': logging.INFO,\n",
    "    \"FEEDS\": {\n",
    "        filename : {\"format\": \"json\"},\n",
    "    }\n",
    "})\n",
    "\n",
    "# Start the crawling using the spider you defined above\n",
    "process.crawl(booking_hotelSpider)\n",
    "process.start()"
   ]
  },
  {
   "cell_type": "code",
   "execution_count": null,
   "metadata": {},
   "outputs": [],
   "source": []
  },
  {
   "cell_type": "code",
   "execution_count": null,
   "metadata": {},
   "outputs": [],
   "source": [
    "coords =pd.read_json('hotel_page.json')\n",
    "df_final['lon'] = coords['coords'].apply(lambda x: x[0].split(\",\")[0]).astype('float')\n",
    "df_final['lat'] = coords['coords'].apply(lambda x: x[0].split(\",\")[1]).astype('float')\n",
    "df_final['scores'] = df_final['scores'].astype('float')"
   ]
  },
  {
   "cell_type": "code",
   "execution_count": null,
   "metadata": {},
   "outputs": [],
   "source": [
    "df_final.dtypes"
   ]
  },
  {
   "cell_type": "code",
   "execution_count": null,
   "metadata": {},
   "outputs": [],
   "source": [
    "fig = px.scatter_mapbox(df_final,hover_name = 'title',lat=\"lat\",color='scores', lon=\"lon\",size=\"scores\", zoom=4, mapbox_style=\"carto-positron\")\n",
    "fig.show()"
   ]
  }
 ],
 "metadata": {
  "kernelspec": {
   "display_name": "Python 3",
   "language": "python",
   "name": "python3"
  },
  "language_info": {
   "codemirror_mode": {
    "name": "ipython",
    "version": 3
   },
   "file_extension": ".py",
   "mimetype": "text/x-python",
   "name": "python",
   "nbconvert_exporter": "python",
   "pygments_lexer": "ipython3",
   "version": "3.8.5"
  }
 },
 "nbformat": 4,
 "nbformat_minor": 4
}
