{
 "cells": [
  {
   "cell_type": "code",
   "execution_count": 10,
   "metadata": {},
   "outputs": [],
   "source": [
    "import requests\n",
    "import pandas as pd\n",
    "from bs4 import BeautifulSoup\n",
    "import plotly.io as pio\n",
    "import pandas as pd\n",
    "import plotly.express as px\n",
    "import plotly.graph_objects as go\n",
    "import os \n",
    "import logging\n",
    "import scrapy\n",
    "from scrapy.crawler import CrawlerProcess\n",
    "\n",
    "pio.renderers.default = \"iframe_connected\""
   ]
  },
  {
   "cell_type": "code",
   "execution_count": 11,
   "metadata": {},
   "outputs": [],
   "source": [
    "cities_list = [\"Mont Saint Michel\",\"St Malo\",\"Bayeux\",\"Le Havre\",\"Rouen\",\"Paris\",\"Amiens\",\"Lille\",\"Strasbourg\",\"Chateau du Haut Koenigsbourg\",\"Colmar\",\"Eguisheim\",\"Besancon\",\"Dijon\",\"Annecy\",\"Grenoble\",\"Lyon\",\"Gorges du Verdon\",\"Bormes les Mimosas\",\"Cassis\",\n",
    "\"Marseille\",\n",
    "\"Aix en Provence\",\n",
    "\"Avignon\",\n",
    "\"Uzes\",\n",
    "\"Nimes\",\n",
    "\"Aigues Mortes\",\n",
    "\"Saintes Maries de la mer\",\n",
    "\"Collioure\",\n",
    "\"Carcassonne\",\n",
    "\"Ariege\",\n",
    "\"Toulouse\",\n",
    "\"Montauban\",\n",
    "\"Biarritz\",\n",
    "\"Bayonne\",\n",
    "\"La Rochelle\"];"
   ]
  },
  {
   "cell_type": "code",
   "execution_count": 12,
   "metadata": {},
   "outputs": [],
   "source": [
    "cities = pd.DataFrame(data = cities_list,columns =['city'])\n",
    "cities[\"lat\"] = 0\n",
    "cities[\"lon\"] = 0\n",
    "cities[\"rain\"] = 0\n",
    "cities[\"rain_prob\"] = 0"
   ]
  },
  {
   "cell_type": "code",
   "execution_count": 13,
   "metadata": {},
   "outputs": [],
   "source": [
    "# Recovering coordinates for each city\n",
    "for index,city in cities['city'].iteritems():\n",
    "    coord = requests.get(\"https://nominatim.openstreetmap.org/?q=<{},france>&format=json&limit=1\".format(city)).json()[0]\n",
    "    cities.loc[index,\"lat\"] = coord['lat']\n",
    "    cities.loc[index,\"lon\"] = coord['lon']\n",
    "\n",
    "cities[\"lat\"] = cities['lat'].astype('float')\n",
    "cities[\"lon\"] = cities['lon'].astype('float')"
   ]
  },
  {
   "cell_type": "code",
   "execution_count": 14,
   "metadata": {},
   "outputs": [],
   "source": [
    "# Recovering weather data\n",
    "API_key = '116c6fd579d21074a961ae64785fefbd'\n",
    "for index,city in cities['city'].iteritems():\n",
    "    weather_daily = requests.get(\"https://api.openweathermap.org/data/2.5/onecall?lat={}&lon={}&exclude=hourly,minutely&appid={}&units=metric\".format(cities.loc[index,\"lat\"],cities.loc[index,\"lon\"],API_key)).json()['daily']\n",
    "    daily_rains = [day[\"pop\"]*day[\"rain\"] if 'rain' in day.keys() else 0 for day in weather_daily]\n",
    "    daily_clouds = [day[\"clouds\"] for day in weather_daily]\n",
    "    daily_temps = [day[\"temp\"]['max'] for day in weather_daily]\n",
    "    \n",
    "    if len(daily_rains) !=0 and len(daily_rains) is not None:\n",
    "        rain_avg = sum(daily_rains)/len(daily_rains)\n",
    "    else:\n",
    "        rain_avg = 0\n",
    "        \n",
    "    if len(daily_clouds) !=0 and len(daily_clouds) is not None:\n",
    "        cloud_avg = sum(daily_clouds)/len(daily_clouds)\n",
    "    else:\n",
    "        cloud_avg = 0\n",
    "    \n",
    "    if len(daily_temps) !=0 and len(daily_temps) is not None:\n",
    "        temp_avg = sum(daily_temps)/len(daily_temps)\n",
    "    else:\n",
    "        temp_avg = 0\n",
    "        \n",
    "    cities.loc[index,\"rain\"] = rain_avg\n",
    "    cities.loc[index,\"cloudiness\"] = cloud_avg\n",
    "    cities.loc[index,\"temperature_max\"] = temp_avg\n",
    "    \n",
    "    "
   ]
  },
  {
   "cell_type": "code",
   "execution_count": 17,
   "metadata": {},
   "outputs": [],
   "source": [
    "cities_sorted = cities.sort_values(by='temperature_max',ascending=False,ignore_index=True).loc[:5,:]"
   ]
  },
  {
   "cell_type": "code",
   "execution_count": 30,
   "metadata": {},
   "outputs": [
    {
     "data": {
      "text/html": [
       "<iframe\n",
       "    scrolling=\"no\"\n",
       "    width=\"100%\"\n",
       "    height=\"545px\"\n",
       "    src=\"iframe_figures/figure_30.html\"\n",
       "    frameborder=\"0\"\n",
       "    allowfullscreen\n",
       "></iframe>\n"
      ]
     },
     "metadata": {},
     "output_type": "display_data"
    }
   ],
   "source": [
    "# Map : top destinations in France based on temperature from weather data\n",
    "\n",
    "fig = px.scatter_mapbox(cities_sorted,hover_name = 'city',lat=\"lat\", lon=\"lon\", color=\"temperature_max\",size=\"rain\", zoom=4, mapbox_style=\"carto-positron\")\n",
    "fig.show()"
   ]
  },
  {
   "cell_type": "code",
   "execution_count": 24,
   "metadata": {},
   "outputs": [
    {
     "data": {
      "text/plain": [
       "['Avignon', 'Nimes', 'Aix en Provence', 'Uzes', 'Carcassonne', 'Toulouse']"
      ]
     },
     "execution_count": 24,
     "metadata": {},
     "output_type": "execute_result"
    }
   ],
   "source": [
    "best_cities = cities_sorted['city'].values.tolist()"
   ]
  },
  {
   "cell_type": "code",
   "execution_count": 8,
   "metadata": {},
   "outputs": [
    {
     "name": "stderr",
     "output_type": "stream",
     "text": [
      "2021-09-11 18:28:59 [scrapy.utils.log] INFO: Scrapy 2.4.1 started (bot: scrapybot)\n",
      "2021-09-11 18:28:59 [scrapy.utils.log] INFO: Versions: lxml 4.6.1.0, libxml2 2.9.10, cssselect 1.1.0, parsel 1.6.0, w3lib 1.22.0, Twisted 21.7.0, Python 3.8.5 (default, Sep  3 2020, 21:29:08) [MSC v.1916 64 bit (AMD64)], pyOpenSSL 19.1.0 (OpenSSL 1.1.1h  22 Sep 2020), cryptography 3.1.1, Platform Windows-10-10.0.19041-SP0\n",
      "2021-09-11 18:28:59 [scrapy.crawler] INFO: Overridden settings:\n",
      "{'LOG_LEVEL': 20,\n",
      " 'USER_AGENT': 'Mozilla/4.0 (compatible; MSIE 7.0; Windows NT 5.1)'}\n",
      "2021-09-11 18:28:59 [scrapy.extensions.telnet] INFO: Telnet Password: 065e6452a5717f7a\n",
      "2021-09-11 18:28:59 [scrapy.middleware] INFO: Enabled extensions:\n",
      "['scrapy.extensions.corestats.CoreStats',\n",
      " 'scrapy.extensions.telnet.TelnetConsole',\n",
      " 'scrapy.extensions.feedexport.FeedExporter',\n",
      " 'scrapy.extensions.logstats.LogStats']\n",
      "2021-09-11 18:28:59 [scrapy.middleware] INFO: Enabled downloader middlewares:\n",
      "['scrapy.downloadermiddlewares.httpauth.HttpAuthMiddleware',\n",
      " 'scrapy.downloadermiddlewares.downloadtimeout.DownloadTimeoutMiddleware',\n",
      " 'scrapy.downloadermiddlewares.defaultheaders.DefaultHeadersMiddleware',\n",
      " 'scrapy.downloadermiddlewares.useragent.UserAgentMiddleware',\n",
      " 'scrapy.downloadermiddlewares.retry.RetryMiddleware',\n",
      " 'scrapy.downloadermiddlewares.redirect.MetaRefreshMiddleware',\n",
      " 'scrapy.downloadermiddlewares.httpcompression.HttpCompressionMiddleware',\n",
      " 'scrapy.downloadermiddlewares.redirect.RedirectMiddleware',\n",
      " 'scrapy.downloadermiddlewares.cookies.CookiesMiddleware',\n",
      " 'scrapy.downloadermiddlewares.httpproxy.HttpProxyMiddleware',\n",
      " 'scrapy.downloadermiddlewares.stats.DownloaderStats']\n",
      "2021-09-11 18:28:59 [scrapy.middleware] INFO: Enabled spider middlewares:\n",
      "['scrapy.spidermiddlewares.httperror.HttpErrorMiddleware',\n",
      " 'scrapy.spidermiddlewares.offsite.OffsiteMiddleware',\n",
      " 'scrapy.spidermiddlewares.referer.RefererMiddleware',\n",
      " 'scrapy.spidermiddlewares.urllength.UrlLengthMiddleware',\n",
      " 'scrapy.spidermiddlewares.depth.DepthMiddleware']\n",
      "2021-09-11 18:28:59 [scrapy.middleware] INFO: Enabled item pipelines:\n",
      "[]\n",
      "2021-09-11 18:28:59 [scrapy.core.engine] INFO: Spider opened\n",
      "2021-09-11 18:28:59 [scrapy.extensions.logstats] INFO: Crawled 0 pages (at 0 pages/min), scraped 0 items (at 0 items/min)\n",
      "2021-09-11 18:28:59 [scrapy.extensions.telnet] INFO: Telnet console listening on 127.0.0.1:6023\n",
      "2021-09-11 18:29:05 [scrapy.core.engine] INFO: Closing spider (finished)\n",
      "2021-09-11 18:29:05 [scrapy.extensions.feedexport] INFO: Stored json feed (35 items) in: booking.json\n",
      "2021-09-11 18:29:05 [scrapy.statscollectors] INFO: Dumping Scrapy stats:\n",
      "{'downloader/request_bytes': 17989,\n",
      " 'downloader/request_count': 35,\n",
      " 'downloader/request_method_count/GET': 35,\n",
      " 'downloader/response_bytes': 695812,\n",
      " 'downloader/response_count': 35,\n",
      " 'downloader/response_status_count/200': 35,\n",
      " 'elapsed_time_seconds': 5.672311,\n",
      " 'finish_reason': 'finished',\n",
      " 'finish_time': datetime.datetime(2021, 9, 11, 16, 29, 5, 180986),\n",
      " 'item_scraped_count': 35,\n",
      " 'log_count/INFO': 11,\n",
      " 'response_received_count': 35,\n",
      " 'scheduler/dequeued': 35,\n",
      " 'scheduler/dequeued/memory': 35,\n",
      " 'scheduler/enqueued': 35,\n",
      " 'scheduler/enqueued/memory': 35,\n",
      " 'start_time': datetime.datetime(2021, 9, 11, 16, 28, 59, 508675)}\n",
      "2021-09-11 18:29:05 [scrapy.core.engine] INFO: Spider closed (finished)\n"
     ]
    }
   ],
   "source": [
    "# Scraping of booking.com\n",
    "\n",
    "class bookingSpider(scrapy.Spider):\n",
    "    \n",
    "    name =\"booking\"\n",
    "    \n",
    "    start_urls = [\"https://www.booking.com/searchresults.fr.html?ss={}\".format(city) for city in best_cities]\n",
    "\n",
    "    def parse(self,response):\n",
    "        \n",
    "        hotels = response.xpath(\"/html/body/div[2]/div[2]/div[2]\")\n",
    "        city = response.request.url.split(\"ss=\")[1].replace(\"%20\",' ')\n",
    "        \n",
    "        for hotel in hotels:            \n",
    "            yield {\n",
    "                \"city\" : city,\n",
    "                \"title\": hotel.xpath(\"div/h3/a/text()\").getall(),\n",
    "                \"url\": hotel.xpath(\"div/h3/a//@href\").getall(),\n",
    "                \"description\": hotel.xpath(\"div/div[1]/p[2]/text()\").getall(),\n",
    "                \"scores\": hotel.xpath(\"div/div[1]/div[1]/b\").getall()\n",
    "                  }\n",
    "\n",
    "filename = \"booking.json\"\n",
    "\n",
    "if filename in os.listdir():\n",
    "        os.remove(filename)\n",
    "\n",
    "# Declare a new CrawlerProcess with some settings\n",
    "process = CrawlerProcess(settings = {\n",
    "    'USER_AGENT': 'Mozilla/4.0 (compatible; MSIE 7.0; Windows NT 5.1)',\n",
    "    'LOG_LEVEL': logging.INFO,\n",
    "    \"FEEDS\": {\n",
    "        filename : {\"format\": \"json\"},\n",
    "    }\n",
    "})\n",
    "\n",
    "# Start the crawling using the spider you defined above\n",
    "process.crawl(bookingSpider)\n",
    "process.start()"
   ]
  },
  {
   "cell_type": "code",
   "execution_count": 2,
   "metadata": {},
   "outputs": [],
   "source": [
    "import pandas as pd\n",
    "# Import file in a dataframe\n",
    "df =pd.read_json('booking.json')\n",
    "\n",
    "# Isolating description\n",
    "descr = df['description']\n",
    "df2=df.drop(columns='description')\n",
    "\n",
    "# Description processing\n",
    "descr_unested = descr.explode()\n",
    "descr_clean = descr_unested[descr_unested !='\\n']\n",
    "\n",
    "# Data unnest\n",
    "df_clean = df2.set_index('city').apply(pd.Series.explode).reset_index()\n",
    "\n",
    "# Concatenation\n",
    "descr_clean = descr_clean.reset_index(drop=True)\n",
    "df_final = pd.concat([df_clean,descr_clean],axis=1)\n",
    "\n",
    "# Data cleaning\n",
    "\n",
    "# URL\n",
    "url_add = pd.Series([\"https://www.booking.com\" for i in range(df_final.shape[0])])\n",
    "\n",
    "df_final[\"url\"] = url_add.str.cat(df_final[\"url\"])\n",
    "df_final[\"url\"] = df_final[\"url\"].str.split(\"?\").apply(lambda x: x[0])\n",
    "\n",
    "# Recovering scores\n",
    "df_final[\"scores\"] = df_final[\"scores\"].str.split('alt=\"').apply(lambda x: x[1].split('/')[0] if len(x) ==2 else 0)\n",
    "\n",
    "# Description\n",
    "df_final[\"description\"] = df_final[\"description\"].str.replace(\"\\n\",\"\")"
   ]
  },
  {
   "cell_type": "markdown",
   "metadata": {},
   "source": [
    " Scraping of hotel coordinates : it's necessary to restart the kernel to launch the crawler a second time, then execute the cell just above to load data from previous scraping\n"
   ]
  },
  {
   "cell_type": "code",
   "execution_count": 3,
   "metadata": {},
   "outputs": [
    {
     "name": "stderr",
     "output_type": "stream",
     "text": [
      "2021-09-11 19:38:19 [scrapy.utils.log] INFO: Scrapy 2.4.1 started (bot: scrapybot)\n",
      "2021-09-11 19:38:19 [scrapy.utils.log] INFO: Versions: lxml 4.6.1.0, libxml2 2.9.10, cssselect 1.1.0, parsel 1.6.0, w3lib 1.22.0, Twisted 21.7.0, Python 3.8.5 (default, Sep  3 2020, 21:29:08) [MSC v.1916 64 bit (AMD64)], pyOpenSSL 19.1.0 (OpenSSL 1.1.1h  22 Sep 2020), cryptography 3.1.1, Platform Windows-10-10.0.19041-SP0\n",
      "2021-09-11 19:38:19 [scrapy.crawler] INFO: Overridden settings:\n",
      "{'LOG_LEVEL': 20,\n",
      " 'USER_AGENT': 'Mozilla/4.0 (compatible; MSIE 7.0; Windows NT 5.1)'}\n",
      "2021-09-11 19:38:19 [scrapy.extensions.telnet] INFO: Telnet Password: 8845ef846bbd172b\n",
      "2021-09-11 19:38:19 [scrapy.middleware] INFO: Enabled extensions:\n",
      "['scrapy.extensions.corestats.CoreStats',\n",
      " 'scrapy.extensions.telnet.TelnetConsole',\n",
      " 'scrapy.extensions.feedexport.FeedExporter',\n",
      " 'scrapy.extensions.logstats.LogStats']\n",
      "2021-09-11 19:38:19 [scrapy.middleware] INFO: Enabled downloader middlewares:\n",
      "['scrapy.downloadermiddlewares.httpauth.HttpAuthMiddleware',\n",
      " 'scrapy.downloadermiddlewares.downloadtimeout.DownloadTimeoutMiddleware',\n",
      " 'scrapy.downloadermiddlewares.defaultheaders.DefaultHeadersMiddleware',\n",
      " 'scrapy.downloadermiddlewares.useragent.UserAgentMiddleware',\n",
      " 'scrapy.downloadermiddlewares.retry.RetryMiddleware',\n",
      " 'scrapy.downloadermiddlewares.redirect.MetaRefreshMiddleware',\n",
      " 'scrapy.downloadermiddlewares.httpcompression.HttpCompressionMiddleware',\n",
      " 'scrapy.downloadermiddlewares.redirect.RedirectMiddleware',\n",
      " 'scrapy.downloadermiddlewares.cookies.CookiesMiddleware',\n",
      " 'scrapy.downloadermiddlewares.httpproxy.HttpProxyMiddleware',\n",
      " 'scrapy.downloadermiddlewares.stats.DownloaderStats']\n",
      "2021-09-11 19:38:19 [scrapy.middleware] INFO: Enabled spider middlewares:\n",
      "['scrapy.spidermiddlewares.httperror.HttpErrorMiddleware',\n",
      " 'scrapy.spidermiddlewares.offsite.OffsiteMiddleware',\n",
      " 'scrapy.spidermiddlewares.referer.RefererMiddleware',\n",
      " 'scrapy.spidermiddlewares.urllength.UrlLengthMiddleware',\n",
      " 'scrapy.spidermiddlewares.depth.DepthMiddleware']\n",
      "2021-09-11 19:38:19 [scrapy.middleware] INFO: Enabled item pipelines:\n",
      "[]\n",
      "2021-09-11 19:38:19 [scrapy.core.engine] INFO: Spider opened\n",
      "2021-09-11 19:38:19 [scrapy.extensions.logstats] INFO: Crawled 0 pages (at 0 pages/min), scraped 0 items (at 0 items/min)\n",
      "2021-09-11 19:38:19 [scrapy.extensions.telnet] INFO: Telnet console listening on 127.0.0.1:6023\n",
      "2021-09-11 19:39:19 [scrapy.extensions.logstats] INFO: Crawled 409 pages (at 409 pages/min), scraped 409 items (at 409 items/min)\n",
      "2021-09-11 19:39:40 [scrapy.downloadermiddlewares.retry] ERROR: Gave up retrying <GET https://www.booking.com/hotel/fr/maison-tommy.fr.html> (failed 3 times): 500 Internal Server Error\n",
      "2021-09-11 19:39:40 [scrapy.spidermiddlewares.httperror] INFO: Ignoring response <500 https://www.booking.com/hotel/fr/maison-tommy.fr.html>: HTTP status code is not handled or not allowed\n",
      "2021-09-11 19:39:58 [scrapy.core.engine] INFO: Closing spider (finished)\n",
      "2021-09-11 19:39:58 [scrapy.extensions.feedexport] INFO: Stored json feed (699 items) in: hotel_page.json\n",
      "2021-09-11 19:39:58 [scrapy.statscollectors] INFO: Dumping Scrapy stats:\n",
      "{'downloader/request_bytes': 501292,\n",
      " 'downloader/request_count': 702,\n",
      " 'downloader/request_method_count/GET': 702,\n",
      " 'downloader/response_bytes': 12239686,\n",
      " 'downloader/response_count': 702,\n",
      " 'downloader/response_status_count/200': 699,\n",
      " 'downloader/response_status_count/500': 3,\n",
      " 'elapsed_time_seconds': 98.851701,\n",
      " 'finish_reason': 'finished',\n",
      " 'finish_time': datetime.datetime(2021, 9, 11, 17, 39, 58, 279887),\n",
      " 'httperror/response_ignored_count': 1,\n",
      " 'httperror/response_ignored_status_count/500': 1,\n",
      " 'item_scraped_count': 699,\n",
      " 'log_count/ERROR': 1,\n",
      " 'log_count/INFO': 13,\n",
      " 'response_received_count': 700,\n",
      " 'retry/count': 2,\n",
      " 'retry/max_reached': 1,\n",
      " 'retry/reason_count/500 Internal Server Error': 2,\n",
      " 'scheduler/dequeued': 702,\n",
      " 'scheduler/dequeued/memory': 702,\n",
      " 'scheduler/enqueued': 702,\n",
      " 'scheduler/enqueued/memory': 702,\n",
      " 'start_time': datetime.datetime(2021, 9, 11, 17, 38, 19, 428186)}\n",
      "2021-09-11 19:39:58 [scrapy.core.engine] INFO: Spider closed (finished)\n"
     ]
    }
   ],
   "source": [
    "import os \n",
    "\n",
    "import logging\n",
    "\n",
    "import scrapy\n",
    "from scrapy.crawler import CrawlerProcess\n",
    "\n",
    "class booking_hotelSpider(scrapy.Spider):\n",
    "    \n",
    "    name =\"hotel_page\"\n",
    "    \n",
    "    start_urls = [url for url in df_final[\"url\"]]\n",
    "\n",
    "    def parse(self,response):\n",
    "          \n",
    "        yield {\n",
    "                \"coords\": response.xpath(\"/html/body/div[2]/div[2]/div[1]/div[2]/p/a//@data-coords\").getall(),\n",
    "                \"scores\": response.xpath(\"/html/body/div[2]/div[2]/div[2]/div[1]/text()\").getall()            \n",
    "                  }\n",
    "\n",
    "filename = \"hotel_page.json\"\n",
    "\n",
    "if filename in os.listdir():\n",
    "        os.remove(filename)\n",
    "\n",
    "# Declare a new CrawlerProcess with some settings\n",
    "process = CrawlerProcess(settings = {\n",
    "    'USER_AGENT': 'Mozilla/4.0 (compatible; MSIE 7.0; Windows NT 5.1)',\n",
    "    'LOG_LEVEL': logging.INFO,\n",
    "    \"FEEDS\": {\n",
    "        filename : {\"format\": \"json\"},\n",
    "    }\n",
    "})\n",
    "\n",
    "# Start the crawling using the spider you defined above\n",
    "process.crawl(booking_hotelSpider)\n",
    "process.start()"
   ]
  },
  {
   "cell_type": "code",
   "execution_count": 3,
   "metadata": {},
   "outputs": [],
   "source": [
    "coords =pd.read_json('hotel_page.json')\n",
    "df_final['lon'] = coords['coords'].apply(lambda x: x[0].split(\",\")[0]).astype('float')\n",
    "df_final['lat'] = coords['coords'].apply(lambda x: x[0].split(\",\")[1]).astype('float')\n",
    "df_final['scores'] = df_final['scores'].astype('float')"
   ]
  },
  {
   "cell_type": "code",
   "execution_count": 36,
   "metadata": {},
   "outputs": [],
   "source": [
    "df_final = df_final.dropna()"
   ]
  },
  {
   "cell_type": "code",
   "execution_count": 51,
   "metadata": {},
   "outputs": [
    {
     "data": {
      "text/plain": [
       "0       [\\nNote sur 878 commentaires   ,  7.4\\n]\n",
       "1      [\\nNote sur 1264 commentaires   ,  7.6\\n]\n",
       "2       [\\nNote sur 801 commentaires   ,  6.8\\n]\n",
       "3      [\\nNote sur 1999 commentaires   ,  8.3\\n]\n",
       "4       [\\nNote sur 534 commentaires   ,  7.7\\n]\n",
       "                         ...                    \n",
       "694    [\\nNote sur 1894 commentaires   ,  7.9\\n]\n",
       "695    [\\nNote sur 2284 commentaires   ,  8.2\\n]\n",
       "696    [\\nNote sur 2918 commentaires   ,  7.4\\n]\n",
       "697     [\\nNote sur 180 commentaires   ,  9.1\\n]\n",
       "698    [\\nNote sur 2292 commentaires   ,  7.7\\n]\n",
       "Name: scores, Length: 699, dtype: object"
      ]
     },
     "execution_count": 51,
     "metadata": {},
     "output_type": "execute_result"
    }
   ],
   "source": [
    "coords =pd.read_json('hotel_page.json')\n",
    "coords[\"scores\"]"
   ]
  },
  {
   "cell_type": "code",
   "execution_count": 24,
   "metadata": {},
   "outputs": [
    {
     "data": {
      "text/plain": [
       "' 6.8\\n'"
      ]
     },
     "execution_count": 24,
     "metadata": {},
     "output_type": "execute_result"
    }
   ],
   "source": [
    "text =coords[\"scores\"][2][1]\n",
    "text\n"
   ]
  },
  {
   "cell_type": "code",
   "execution_count": 38,
   "metadata": {},
   "outputs": [],
   "source": [
    "import re\n",
    "score_search = re.match('\\d+\\.\\d', text)\n"
   ]
  },
  {
   "cell_type": "code",
   "execution_count": 53,
   "metadata": {},
   "outputs": [
    {
     "name": "stdout",
     "output_type": "stream",
     "text": [
      "ok\n"
     ]
    }
   ],
   "source": [
    "if re.search('\\d+\\.\\d', text).group(0):\n",
    "    print('ok')"
   ]
  },
  {
   "cell_type": "code",
   "execution_count": 58,
   "metadata": {},
   "outputs": [
    {
     "ename": "AttributeError",
     "evalue": "'NoneType' object has no attribute 'group'",
     "output_type": "error",
     "traceback": [
      "\u001b[1;31m---------------------------------------------------------------------------\u001b[0m",
      "\u001b[1;31mAttributeError\u001b[0m                            Traceback (most recent call last)",
      "\u001b[1;32m<ipython-input-58-73ade2a6d491>\u001b[0m in \u001b[0;36m<module>\u001b[1;34m\u001b[0m\n\u001b[1;32m----> 1\u001b[1;33m \u001b[0mcoords\u001b[0m\u001b[1;33m[\u001b[0m\u001b[1;34m\"scores_clean\"\u001b[0m\u001b[1;33m]\u001b[0m \u001b[1;33m=\u001b[0m \u001b[0mcoords\u001b[0m\u001b[1;33m[\u001b[0m\u001b[1;34m\"scores\"\u001b[0m\u001b[1;33m]\u001b[0m\u001b[1;33m.\u001b[0m\u001b[0mapply\u001b[0m\u001b[1;33m(\u001b[0m\u001b[1;32mlambda\u001b[0m \u001b[0mx\u001b[0m\u001b[1;33m:\u001b[0m \u001b[0mre\u001b[0m\u001b[1;33m.\u001b[0m\u001b[0msearch\u001b[0m\u001b[1;33m(\u001b[0m\u001b[1;34m'\\d+\\.\\d'\u001b[0m\u001b[1;33m,\u001b[0m \u001b[0mx\u001b[0m\u001b[1;33m[\u001b[0m\u001b[1;36m1\u001b[0m\u001b[1;33m]\u001b[0m\u001b[1;33m)\u001b[0m\u001b[1;33m.\u001b[0m\u001b[0mgroup\u001b[0m\u001b[1;33m(\u001b[0m\u001b[1;36m0\u001b[0m\u001b[1;33m)\u001b[0m \u001b[1;32mif\u001b[0m \u001b[0mre\u001b[0m\u001b[1;33m.\u001b[0m\u001b[0msearch\u001b[0m\u001b[1;33m(\u001b[0m\u001b[1;34m'\\d+\\.\\d'\u001b[0m\u001b[1;33m,\u001b[0m \u001b[0mx\u001b[0m\u001b[1;33m[\u001b[0m\u001b[1;36m1\u001b[0m\u001b[1;33m]\u001b[0m\u001b[1;33m)\u001b[0m\u001b[1;33m.\u001b[0m\u001b[0mgroup\u001b[0m\u001b[1;33m(\u001b[0m\u001b[1;36m0\u001b[0m\u001b[1;33m)\u001b[0m \u001b[1;32melse\u001b[0m \u001b[1;36m0\u001b[0m\u001b[1;33m)\u001b[0m\u001b[1;33m\u001b[0m\u001b[1;33m\u001b[0m\u001b[0m\n\u001b[0m\u001b[0;32m      2\u001b[0m \u001b[0mcoords\u001b[0m\u001b[1;33m[\u001b[0m\u001b[1;34m\"scores_clean\"\u001b[0m\u001b[1;33m]\u001b[0m\u001b[1;33m\u001b[0m\u001b[1;33m\u001b[0m\u001b[0m\n",
      "\u001b[1;32mC:\\ProgramData\\Anaconda3\\lib\\site-packages\\pandas\\core\\series.py\u001b[0m in \u001b[0;36mapply\u001b[1;34m(self, func, convert_dtype, args, **kwds)\u001b[0m\n\u001b[0;32m   4198\u001b[0m             \u001b[1;32melse\u001b[0m\u001b[1;33m:\u001b[0m\u001b[1;33m\u001b[0m\u001b[1;33m\u001b[0m\u001b[0m\n\u001b[0;32m   4199\u001b[0m                 \u001b[0mvalues\u001b[0m \u001b[1;33m=\u001b[0m \u001b[0mself\u001b[0m\u001b[1;33m.\u001b[0m\u001b[0mastype\u001b[0m\u001b[1;33m(\u001b[0m\u001b[0mobject\u001b[0m\u001b[1;33m)\u001b[0m\u001b[1;33m.\u001b[0m\u001b[0m_values\u001b[0m\u001b[1;33m\u001b[0m\u001b[1;33m\u001b[0m\u001b[0m\n\u001b[1;32m-> 4200\u001b[1;33m                 \u001b[0mmapped\u001b[0m \u001b[1;33m=\u001b[0m \u001b[0mlib\u001b[0m\u001b[1;33m.\u001b[0m\u001b[0mmap_infer\u001b[0m\u001b[1;33m(\u001b[0m\u001b[0mvalues\u001b[0m\u001b[1;33m,\u001b[0m \u001b[0mf\u001b[0m\u001b[1;33m,\u001b[0m \u001b[0mconvert\u001b[0m\u001b[1;33m=\u001b[0m\u001b[0mconvert_dtype\u001b[0m\u001b[1;33m)\u001b[0m\u001b[1;33m\u001b[0m\u001b[1;33m\u001b[0m\u001b[0m\n\u001b[0m\u001b[0;32m   4201\u001b[0m \u001b[1;33m\u001b[0m\u001b[0m\n\u001b[0;32m   4202\u001b[0m         \u001b[1;32mif\u001b[0m \u001b[0mlen\u001b[0m\u001b[1;33m(\u001b[0m\u001b[0mmapped\u001b[0m\u001b[1;33m)\u001b[0m \u001b[1;32mand\u001b[0m \u001b[0misinstance\u001b[0m\u001b[1;33m(\u001b[0m\u001b[0mmapped\u001b[0m\u001b[1;33m[\u001b[0m\u001b[1;36m0\u001b[0m\u001b[1;33m]\u001b[0m\u001b[1;33m,\u001b[0m \u001b[0mSeries\u001b[0m\u001b[1;33m)\u001b[0m\u001b[1;33m:\u001b[0m\u001b[1;33m\u001b[0m\u001b[1;33m\u001b[0m\u001b[0m\n",
      "\u001b[1;32mpandas\\_libs\\lib.pyx\u001b[0m in \u001b[0;36mpandas._libs.lib.map_infer\u001b[1;34m()\u001b[0m\n",
      "\u001b[1;32m<ipython-input-58-73ade2a6d491>\u001b[0m in \u001b[0;36m<lambda>\u001b[1;34m(x)\u001b[0m\n\u001b[1;32m----> 1\u001b[1;33m \u001b[0mcoords\u001b[0m\u001b[1;33m[\u001b[0m\u001b[1;34m\"scores_clean\"\u001b[0m\u001b[1;33m]\u001b[0m \u001b[1;33m=\u001b[0m \u001b[0mcoords\u001b[0m\u001b[1;33m[\u001b[0m\u001b[1;34m\"scores\"\u001b[0m\u001b[1;33m]\u001b[0m\u001b[1;33m.\u001b[0m\u001b[0mapply\u001b[0m\u001b[1;33m(\u001b[0m\u001b[1;32mlambda\u001b[0m \u001b[0mx\u001b[0m\u001b[1;33m:\u001b[0m \u001b[0mre\u001b[0m\u001b[1;33m.\u001b[0m\u001b[0msearch\u001b[0m\u001b[1;33m(\u001b[0m\u001b[1;34m'\\d+\\.\\d'\u001b[0m\u001b[1;33m,\u001b[0m \u001b[0mx\u001b[0m\u001b[1;33m[\u001b[0m\u001b[1;36m1\u001b[0m\u001b[1;33m]\u001b[0m\u001b[1;33m)\u001b[0m\u001b[1;33m.\u001b[0m\u001b[0mgroup\u001b[0m\u001b[1;33m(\u001b[0m\u001b[1;36m0\u001b[0m\u001b[1;33m)\u001b[0m \u001b[1;32mif\u001b[0m \u001b[0mre\u001b[0m\u001b[1;33m.\u001b[0m\u001b[0msearch\u001b[0m\u001b[1;33m(\u001b[0m\u001b[1;34m'\\d+\\.\\d'\u001b[0m\u001b[1;33m,\u001b[0m \u001b[0mx\u001b[0m\u001b[1;33m[\u001b[0m\u001b[1;36m1\u001b[0m\u001b[1;33m]\u001b[0m\u001b[1;33m)\u001b[0m\u001b[1;33m.\u001b[0m\u001b[0mgroup\u001b[0m\u001b[1;33m(\u001b[0m\u001b[1;36m0\u001b[0m\u001b[1;33m)\u001b[0m \u001b[1;32melse\u001b[0m \u001b[1;36m0\u001b[0m\u001b[1;33m)\u001b[0m\u001b[1;33m\u001b[0m\u001b[1;33m\u001b[0m\u001b[0m\n\u001b[0m\u001b[0;32m      2\u001b[0m \u001b[0mcoords\u001b[0m\u001b[1;33m[\u001b[0m\u001b[1;34m\"scores_clean\"\u001b[0m\u001b[1;33m]\u001b[0m\u001b[1;33m\u001b[0m\u001b[1;33m\u001b[0m\u001b[0m\n",
      "\u001b[1;31mAttributeError\u001b[0m: 'NoneType' object has no attribute 'group'"
     ]
    }
   ],
   "source": [
    "coords[\"scores_clean\"] = coords[\"scores\"].apply(lambda x: re.search('\\d+\\.\\d', x[1]).group(0) if re.search('\\d+\\.\\d', x[1]).group(0) else 0)\n",
    "coords[\"scores_clean\"]"
   ]
  },
  {
   "cell_type": "code",
   "execution_count": 49,
   "metadata": {},
   "outputs": [
    {
     "data": {
      "text/html": [
       "<iframe\n",
       "    scrolling=\"no\"\n",
       "    width=\"100%\"\n",
       "    height=\"545px\"\n",
       "    src=\"iframe_figures/figure_49.html\"\n",
       "    frameborder=\"0\"\n",
       "    allowfullscreen\n",
       "></iframe>\n"
      ]
     },
     "metadata": {},
     "output_type": "display_data"
    }
   ],
   "source": [
    "# Map : hotels around top destinations based on the first map\n",
    "import plotly.express as px\n",
    "import plotly.io as pio\n",
    "import plotly.graph_objects as go\n",
    "\n",
    "pio.renderers.default = \"iframe_connected\"\n",
    "\n",
    "fig = px.scatter_mapbox(df_final,hover_name = 'title',lat=\"lat\",color='scores', lon=\"lon\", zoom=4, mapbox_style=\"carto-positron\")\n",
    "fig.show()"
   ]
  }
 ],
 "metadata": {
  "kernelspec": {
   "display_name": "Python 3",
   "language": "python",
   "name": "python3"
  },
  "language_info": {
   "codemirror_mode": {
    "name": "ipython",
    "version": 3
   },
   "file_extension": ".py",
   "mimetype": "text/x-python",
   "name": "python",
   "nbconvert_exporter": "python",
   "pygments_lexer": "ipython3",
   "version": "3.8.5"
  }
 },
 "nbformat": 4,
 "nbformat_minor": 4
}
